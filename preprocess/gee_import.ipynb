{
 "cells": [
  {
   "cell_type": "code",
   "execution_count": null,
   "id": "9f46d4e3-dffb-4592-9a1f-74ae5552a2a2",
   "metadata": {},
   "outputs": [],
   "source": [
    "import ee\n",
    "import os\n",
    "import pandas as pd\n",
    "import geopandas as gpd\n",
    "import numba\n",
    "import numpy as np\n",
    "from tqdm.notebook import tqdm\n"
   ]
  },
  {
   "cell_type": "code",
   "execution_count": null,
   "id": "29eeba1c-2330-4cff-b74a-73cfc63ee3b9",
   "metadata": {},
   "outputs": [],
   "source": [
    "ee.Authenticate()\n",
    "ee.Initialize(project='ee-gtikhonov')\n",
    "print(ee.String('Hello from the Earth Engine servers!').getInfo())"
   ]
  },
  {
   "cell_type": "code",
   "execution_count": null,
   "id": "9797929d-5183-44c8-bf97-54342936a673",
   "metadata": {},
   "outputs": [],
   "source": [
    "path_data = \"/home/gt/DATA/geolifeclef-2025\"\n",
    "file_path_po = os.path.join(path_data, \"GLC25_P0_metadata_train.csv\")\n",
    "df_po = pd.read_csv(file_path_po)\n"
   ]
  },
  {
   "cell_type": "code",
   "execution_count": null,
   "id": "cde2b9ef-be91-4ab8-9862-05a28bca0ff7",
   "metadata": {},
   "outputs": [],
   "source": [
    "df_un = df_po.groupby([\"lat\",\"lon\"]).agg({\"surveyId\": lambda values : \",\".join(values.unique().astype(int).astype(str)), \"speciesId\": lambda values : \",\".join(values.unique().astype(str))}).reset_index()\n",
    "df_un[\"id\"] = np.arange(len(df_un))"
   ]
  },
  {
   "cell_type": "code",
   "execution_count": null,
   "id": "08093cb5-4c41-4b4f-a923-e59ea040edb5",
   "metadata": {},
   "outputs": [],
   "source": [
    "gdf_un = gpd.GeoDataFrame(df_un, geometry=gpd.points_from_xy(df_un['lon'], df_un['lat']), crs='EPSG:4326')\n",
    "gdf_un = gdf_un.to_crs(epsg=3857)"
   ]
  },
  {
   "cell_type": "code",
   "execution_count": null,
   "id": "9cb57b28-c23c-4146-834f-21bb068da237",
   "metadata": {},
   "outputs": [],
   "source": [
    "def row_to_feature(row):\n",
    "    point = ee.Geometry.Point([row[\"lon\"], row[\"lat\"]])\n",
    "    return ee.Feature(point, {\"id\": row[\"id\"]})\n",
    "\n",
    "grouped = gdf_un\n",
    "features = [row_to_feature(row) for idx, row in tqdm(grouped.iterrows(),  total=len(grouped))]"
   ]
  },
  {
   "cell_type": "code",
   "execution_count": null,
   "id": "b9dcf258-9a36-4b31-beae-9207810cc419",
   "metadata": {},
   "outputs": [],
   "source": [
    "chunk_size = 4500\n",
    "chunks = [features[i:i + chunk_size] for i in range(0, len(features), chunk_size)]\n",
    "\n",
    "# Загружаем WorldCover\n",
    "worldcover = ee.Image(\"ESA/WorldCover/v100/2020\")\n",
    "cover = worldcover.select(\"Map\")\n",
    "\n",
    "results = {}\n",
    "for i, chunk in enumerate(tqdm(chunks, desc=\"batch-requests\")):\n",
    "    fc = ee.FeatureCollection(chunk)\n",
    "    sampled = cover.sampleRegions(collection=fc, scale=10, geometries=False)\n",
    "    try:\n",
    "        data = sampled.getInfo()\n",
    "    except Exception as e:\n",
    "        print(f\"error chunk {i}: {e}\")\n",
    "        continue\n",
    "\n",
    "    sids = [f[\"properties\"][\"id\"] for f in data[\"features\"]]\n",
    "    vals = [f[\"properties\"][\"Map\"] for f in data[\"features\"]]\n",
    "    results.update(zip(sids, vals))\n",
    "\n",
    "grouped[\"class\"] = grouped[\"id\"].map(results)"
   ]
  },
  {
   "cell_type": "code",
   "execution_count": null,
   "id": "982afc38-e7a8-43b7-a1aa-dcf7f6806b69",
   "metadata": {},
   "outputs": [],
   "source": [
    "res = df_un\n",
    "res[\"class\"] = res[\"id\"].map(results)\n",
    "res.drop(\"id\", axis=1).to_csv(os.path.join(path_data, \"worldcover\", \"po_train_survey_points_with_worldcover.csv\"))"
   ]
  },
  {
   "cell_type": "code",
   "execution_count": null,
   "id": "c5fbc382-eac1-4431-9e29-25eda266435e",
   "metadata": {},
   "outputs": [],
   "source": [
    "res.surveyId"
   ]
  },
  {
   "cell_type": "code",
   "execution_count": null,
   "id": "664a62d6-7159-4884-96a8-083a4278809e",
   "metadata": {},
   "outputs": [],
   "source": [
    "gdf_points_po.value_counts([\"surveyId\"])"
   ]
  },
  {
   "cell_type": "code",
   "execution_count": null,
   "id": "425a92e4-0613-4f3f-a59c-5306216e1d93",
   "metadata": {},
   "outputs": [],
   "source": [
    "tmp = gdf_points_po.value_counts([\"lat\",\"lon\"])"
   ]
  },
  {
   "cell_type": "code",
   "execution_count": null,
   "id": "26f12c19-dd21-4350-8e55-1c3c20b8f82b",
   "metadata": {},
   "outputs": [],
   "source": [
    "tmp.iloc[:10000]"
   ]
  },
  {
   "cell_type": "code",
   "execution_count": null,
   "id": "433b88d7-e6a3-43de-b4a1-6cef09aaebaf",
   "metadata": {},
   "outputs": [],
   "source": [
    "tmp.index[0]"
   ]
  },
  {
   "cell_type": "code",
   "execution_count": null,
   "id": "f0ba3499-4e1d-4421-9fbd-c268aafb409c",
   "metadata": {},
   "outputs": [],
   "source": [
    "gdf_points_po"
   ]
  },
  {
   "cell_type": "code",
   "execution_count": null,
   "id": "063a50ec-9362-4608-8cc4-66b99da339cc",
   "metadata": {},
   "outputs": [],
   "source": [
    "gdf_points_po.loc[(gdf_points_po.loc[:,[\"lat\",\"lon\"]] == tmp.index[0]).all(axis=1)]"
   ]
  },
  {
   "cell_type": "code",
   "execution_count": null,
   "id": "890e942a-079a-4532-9fd8-cc8dc6c98e55",
   "metadata": {},
   "outputs": [],
   "source": [
    "gdf_points_po.loc[:,[\"lat\",\"lon\"]] == tmp.index[0]"
   ]
  },
  {
   "cell_type": "code",
   "execution_count": null,
   "id": "321fed57-f1a7-4337-b357-3ef5668d235b",
   "metadata": {},
   "outputs": [],
   "source": []
  }
 ],
 "metadata": {
  "kernelspec": {
   "display_name": "Python 3 (ipykernel)",
   "language": "python",
   "name": "python3"
  },
  "language_info": {
   "codemirror_mode": {
    "name": "ipython",
    "version": 3
   },
   "file_extension": ".py",
   "mimetype": "text/x-python",
   "name": "python",
   "nbconvert_exporter": "python",
   "pygments_lexer": "ipython3",
   "version": "3.12.3"
  }
 },
 "nbformat": 4,
 "nbformat_minor": 5
}
