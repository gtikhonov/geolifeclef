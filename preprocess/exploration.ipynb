{
 "cells": [
  {
   "cell_type": "code",
   "execution_count": 1,
   "id": "beb40882-101c-4f20-b80b-df2c42fec239",
   "metadata": {},
   "outputs": [],
   "source": [
    "import warnings\n",
    "warnings.filterwarnings(\"ignore\")\n",
    "import os\n",
    "import numpy as np\n",
    "import rasterio\n",
    "import tqdm\n",
    "import pandas as pd\n",
    "import rasterio\n",
    "import random\n",
    "import matplotlib.pyplot as plt\n",
    "from sklearn.metrics import precision_recall_fscore_support"
   ]
  },
  {
   "cell_type": "code",
   "execution_count": null,
   "id": "7067e976-5b5a-4872-9362-d35eaccda294",
   "metadata": {},
   "outputs": [],
   "source": [
    "path_data = \"/home/gt/DATA/geolifeclef-2025\"\n",
    "train_metadata = pd.read_csv(os.path.join(path_data, \"GLC25_PA_metadata_train.csv\"))\n",
    "train_metadata = train_metadata.dropna(subset=\"speciesId\").reset_index(drop=True)\n",
    "train_metadata['speciesId'] = train_metadata['speciesId'].astype(int)\n",
    "train_label_dict = train_metadata.groupby('surveyId')['speciesId'].apply(list).to_dict()\n",
    "train_metadata = train_metadata.drop_duplicates(subset=\"surveyId\").reset_index(drop=True).drop('speciesId', axis=1)\n",
    "train_metadata['areaInM2'].fillna((train_metadata['areaInM2'].mean()), inplace=True)\n",
    "train_metadata[\"conFra\"] = train_metadata[\"country\"] == \"France\"\n",
    "train_metadata[\"conDen\"] = train_metadata[\"country\"] == \"Denmark\"\n",
    "train_metadata[\"conNet\"] = train_metadata[\"country\"] == \"Netherlands\"\n",
    "train_metadata[\"conIta\"] = train_metadata[\"country\"] == \"Italy\"\n",
    "train_metadata[\"conOther\"] = ~train_metadata[\"country\"].isin([\"France\",\"Denmark\",\"Netherlands\",\"Italy\"])\n",
    "train_elevation = pd.read_csv(os.path.join(path_data, \"EnvironmentalValues\", \"Elevation\", \"GLC25-PA-train-elevation.csv\"))\n",
    "train_elevation['Elevation'].fillna((train_elevation['Elevation'].mean()), inplace=True)\n",
    "train_soil = pd.read_csv(os.path.join(path_data, \"EnvironmentalValues\", \"SoilGrids\", \"GLC25-PA-train-soilgrids.csv\"))\n",
    "meta_columns = [\"areaInM2\", \"Elevation\", \"conFra\", \"conDen\", \"conNet\", \"conIta\", \"conOther\"]"
   ]
  },
  {
   "cell_type": "code",
   "execution_count": null,
   "id": "944045ef-502a-4db2-91e8-c6e174617c61",
   "metadata": {},
   "outputs": [],
   "source": [
    "path_data = \"/home/gt/DATA/geolifeclef-2025\"\n",
    "train_metadata = pd.read_csv(os.path.join(path_data, \"GLC25_PA_metadata_train.csv\"))\n",
    "train_metadata['speciesId'] = train_metadata['speciesId'].astype(int)\n",
    "train_metadata"
   ]
  },
  {
   "cell_type": "code",
   "execution_count": null,
   "id": "18722e62-c72a-4b89-90e7-35d432d2fc3b",
   "metadata": {},
   "outputs": [],
   "source": [
    "display((train_metadata.areaInM2 == -np.inf).sum())\n",
    "display(train_metadata.areaInM2.isna().sum())"
   ]
  },
  {
   "cell_type": "code",
   "execution_count": null,
   "id": "038f9535-47fe-441d-a770-e458b70790b9",
   "metadata": {},
   "outputs": [],
   "source": [
    "tmp = train_metadata.groupby(\"surveyId\").agg({\"surveyId\":\"first\", \"lat\":\"first\", \"lon\":\"first\", \"areaInM2\":lambda x: list(x.unique()), \"geoUncertaintyInM\":lambda x: list(x.unique()), \"region\":\"first\", \"country\":\"first\", \"speciesId\":list})\n",
    "tmp.rename(columns={\"areaInM2\": \"area\", \"geoUncertaintyInM\": \"uncert\"}, inplace=True)\n",
    "tmp.insert(np.where(tmp.columns==\"area\")[0][0]+1, \"areaList\", tmp[\"area\"])\n",
    "tmp[\"area\"] = tmp[\"areaList\"].apply(np.mean)\n",
    "print((tmp.area == -np.inf).sum(), tmp.area.isna().sum())\n",
    "tmp[\"area\"] = tmp[\"areaList\"].apply(lambda x: 1.0 if np.isinf(x).all() else np.mean(x, where=~np.isinf(x)))\n",
    "print((tmp.area == -np.inf).sum(), tmp.area.isna().sum())\n",
    "tmp['area'].fillna(tmp['area'].mean(), inplace=True)\n",
    "print((tmp.area == -np.inf).sum(), tmp.area.isna().sum())\n",
    "tmp.insert(np.where(tmp.columns==\"uncert\")[0][0]+1, \"uncertList\", tmp[\"uncert\"])\n",
    "tmp[\"uncert\"] = tmp[\"uncert\"].apply(np.mean)\n",
    "tmp[\"speciesId\"] = tmp[\"speciesId\"].apply(np.sort)\n",
    "tmp[\"spLenOrig\"] = tmp[\"speciesId\"].apply(len)\n",
    "tmp[\"spLen\"] = tmp[\"speciesId\"].apply(np.unique).apply(len)\n",
    "tmp.sort_values([\"spLen\",\"area\"], ascending=[True,False], inplace=True)"
   ]
  },
  {
   "cell_type": "code",
   "execution_count": null,
   "id": "0d4ee2ab-c53f-4952-b942-a7dce6db24e2",
   "metadata": {},
   "outputs": [],
   "source": [
    "train_worldcover = pd.read_csv(os.path.join(path_data, \"worldcover\", \"s2_pa_train_survey_points_with_worldcover.csv\"))\n",
    "train_worldcover['surveyId'] = train_worldcover['surveyId'].astype(int)\n",
    "train_worldcover.set_index(\"surveyId\", inplace=True)\n",
    "comb = pd.concat([tmp.sort_index(), train_worldcover.sort_values(\"surveyId\")[\"class\"]], axis=1)\n",
    "comb"
   ]
  },
  {
   "cell_type": "code",
   "execution_count": null,
   "id": "9269d56d-bb5b-484f-85c5-12830817ccd5",
   "metadata": {},
   "outputs": [],
   "source": [
    "with pd.option_context('display.max_rows', 100):\n",
    "    display(comb[comb[\"class\"]==100].sort_values([\"country\",\"lat\"]))"
   ]
  },
  {
   "cell_type": "code",
   "execution_count": null,
   "id": "acd7d25a-4131-48d3-90ad-eb175d708b95",
   "metadata": {},
   "outputs": [],
   "source": [
    "with pd.option_context('display.max_rows', 20):\n",
    "    print(comb.loc[comb.spLen == 1].value_counts(\"country\"))\n",
    "    tmp = comb.sort_values([\"spLen\",\"area\",\"country\"], ascending=[True,False,True])\n",
    "    display(tmp.loc[tmp.country==\"Poland\"].head(20))"
   ]
  },
  {
   "cell_type": "code",
   "execution_count": null,
   "id": "0f58ad7c-23fc-4eb7-b26b-205a5c8ee21f",
   "metadata": {},
   "outputs": [],
   "source": [
    "fig = plt.figure()\n",
    "ax = plt.gca()\n",
    "plt.plot(tmp.spLen.value_counts(sort=False))\n",
    "ax.set_xlabel(\"number of species\")\n",
    "ax.set_ylabel(\"counts in PA train\")\n",
    "plt.show()"
   ]
  },
  {
   "cell_type": "code",
   "execution_count": null,
   "id": "26d5cc53-ffbc-46e3-b285-57f5d8f35167",
   "metadata": {},
   "outputs": [],
   "source": [
    "train_landcover = pd.read_csv(os.path.join(path_data, \"EnvironmentalValues\", \"LandCover\", \"GLC25-PA-train-landcover.csv\"), index_col=0)\n",
    "train_landcover = train_landcover.iloc[:,[0,2,3,5,8,11,12]]\n",
    "train_wcdummy = pd.get_dummies(train_worldcover[\"class\"], prefix=\"wc\") + 0.0\n",
    "covercomb = pd.concat([train_landcover, train_wcdummy], axis=1)"
   ]
  },
  {
   "cell_type": "code",
   "execution_count": null,
   "id": "9a43dc2a-a382-4971-90f0-0b6fd1174640",
   "metadata": {},
   "outputs": [],
   "source": [
    "train_landcover.isna().sum(0)"
   ]
  },
  {
   "cell_type": "code",
   "execution_count": null,
   "id": "a1b801a0-3127-4d1a-967d-b2a169c2fcc6",
   "metadata": {},
   "outputs": [],
   "source": [
    "test_landcover = pd.read_csv(os.path.join(path_data, \"EnvironmentalValues\", \"LandCover\", \"GLC25-PA-test-landcover.csv\"), index_col=0)\n",
    "test_landcover.isna().sum(0)"
   ]
  },
  {
   "cell_type": "code",
   "execution_count": null,
   "id": "52f4af22-3b9c-4cb5-bcef-7ae87e254628",
   "metadata": {},
   "outputs": [],
   "source": [
    "comb.loc[comb.surveyId.isin([277331, 797067, 1295919, 2081447, 2436311, 2820287, 3373101, 3496885])]"
   ]
  },
  {
   "cell_type": "code",
   "execution_count": null,
   "id": "5fe38e33-edca-41d7-80a0-fbf4880dc6cb",
   "metadata": {},
   "outputs": [],
   "source": [
    "f = plt.figure(figsize=(19, 15))\n",
    "plt.matshow(covercomb.corr(\"spearman\"), fignum=f.number, vmin=-1, vmax=1, cmap=\"RdBu\")\n",
    "plt.xticks(range(covercomb.select_dtypes(['number']).shape[1]), covercomb.select_dtypes(['number']).columns, fontsize=14, rotation=45, ha=\"left\")\n",
    "plt.yticks(range(covercomb.select_dtypes(['number']).shape[1]), covercomb.select_dtypes(['number']).columns, fontsize=14)\n",
    "cb = plt.colorbar()\n",
    "cb.ax.tick_params(labelsize=14)\n",
    "plt.title('Correlation Matrix', fontsize=16);\n",
    "plt.show()\n"
   ]
  },
  {
   "cell_type": "code",
   "execution_count": null,
   "id": "eb715aaa-6c42-4b29-bfd7-4c7e5abf779e",
   "metadata": {},
   "outputs": [],
   "source": [
    "fig = plt.figure()\n",
    "ax = plt.gca()\n",
    "ax.scatter(tmp.area, tmp.spLen)\n",
    "ax.set_yscale('log')\n",
    "ax.set_xscale('log')\n",
    "ax.set_xlabel(\"area\")\n",
    "ax.set_ylabel(\"richness\")"
   ]
  },
  {
   "cell_type": "code",
   "execution_count": null,
   "id": "d21d6175-45fa-45cc-8531-abcd66902aa8",
   "metadata": {},
   "outputs": [],
   "source": [
    "fig = plt.figure()\n",
    "ax = plt.gca()\n",
    "ax.scatter(tmp.spLenOrig, tmp.spLen)\n",
    "ax.set_yscale('log')\n",
    "ax.set_xscale('log')\n",
    "ax.set_xlabel(\"original richness\")\n",
    "ax.set_ylabel(\"actual richness\")\n",
    "plt.axline([0,0],[1,1], color=\"gray\")\n",
    "plt.axline([10,1],[100,10], color=\"gray\", linestyle=\"dashed\")"
   ]
  },
  {
   "cell_type": "code",
   "execution_count": null,
   "id": "934d1bb0-94fe-44b8-82f0-e99403c47b1f",
   "metadata": {},
   "outputs": [],
   "source": [
    "train_worldcover[train_worldcover[\"class\"]==70]"
   ]
  },
  {
   "cell_type": "code",
   "execution_count": null,
   "id": "bcf39631-32eb-4a30-aeda-b31032a3b1bb",
   "metadata": {},
   "outputs": [],
   "source": [
    "train_worldcover = pd.read_csv(os.path.join(path_data, \"worldcover\", \"s2_pa_train_survey_points_with_worldcover.csv\"))\n",
    "display(train_worldcover.value_counts(\"class\"))\n",
    "train_wcdummy = pd.get_dummies(train_worldcover[\"class\"], prefix=\"wc\").set_index(train_worldcover.surveyId)\n",
    "#pd.get_dummies(train_worldcover, columns=[\"class\"])\n",
    "train_wcdummy"
   ]
  },
  {
   "cell_type": "code",
   "execution_count": null,
   "id": "8bc643aa-55ad-4c40-baaa-f4dc9feab5a4",
   "metadata": {},
   "outputs": [],
   "source": [
    "test_worldcover.value_counts(\"class\")"
   ]
  },
  {
   "cell_type": "code",
   "execution_count": null,
   "id": "bb96b52c-a034-4034-93fc-c414228a54d2",
   "metadata": {},
   "outputs": [],
   "source": [
    "test_worldcover = pd.read_csv(os.path.join(path_data, \"worldcover\", \"pa_test_survey_points_with_worldcover.csv\"))\n",
    "tmp = pd.get_dummies(test_worldcover[\"class\"], prefix=\"wc\").set_index(test_worldcover.surveyId)\n",
    "tmp.insert(6, \"wc_70\", False)\n",
    "tmp"
   ]
  },
  {
   "cell_type": "code",
   "execution_count": null,
   "id": "6576e32a-2b01-428c-9c8a-852c52ffbe5f",
   "metadata": {},
   "outputs": [],
   "source": [
    "test_worldcover"
   ]
  },
  {
   "cell_type": "code",
   "execution_count": null,
   "id": "14ba4d2f-2e24-485d-92e7-e93ce44926c4",
   "metadata": {},
   "outputs": [],
   "source": [
    "path_data = \"/home/gt/DATA/geolifeclef-2025\"\n",
    "train_metadata = pd.read_csv(os.path.join(path_data, \"GLC25_PA_metadata_train.csv\"))\n",
    "train_metadata = train_metadata.dropna(subset=\"speciesId\").reset_index(drop=True)\n",
    "train_metadata['speciesId'] = train_metadata['speciesId'].astype(int)\n",
    "train_metadata[\"speciesIdOrig\"] = train_metadata['speciesId']\n",
    "tmp = train_metadata[\"speciesId\"].value_counts() >= pa_presence_threshold\n",
    "train_metadata.loc[~train_metadata[\"speciesId\"].isin(tmp[tmp].index), \"speciesId\"] = -1\n",
    "sp_categorical = train_metadata[\"speciesId\"].astype(\"category\").values\n",
    "num_classes = len(sp_categorical.categories)\n",
    "train_metadata['speciesId'] = sp_categorical.codes\n",
    "train_label_series = train_metadata.groupby('surveyId')['speciesId'].apply(list)\n",
    "train_label_series"
   ]
  },
  {
   "cell_type": "code",
   "execution_count": null,
   "id": "797ff4f7-0245-44e0-8b9b-0dab141aa714",
   "metadata": {},
   "outputs": [],
   "source": [
    "train_path_sentinel = os.path.join(path_data, \"SatelitePatches/PA-train\")\n",
    "train_path_landsat = os.path.join(path_data, \"SateliteTimeSeries-Landsat/cubes/PA-train\")\n",
    "train_path_bioclim = os.path.join(path_data, \"BioclimTimeSeries/cubes/PA-train\")\n",
    "train_metadata = pd.read_csv(os.path.join(path_data, \"GLC25_PA_metadata_train.csv\"))\n",
    "train_metadata = train_metadata.dropna(subset=\"speciesId\").reset_index(drop=True)\n",
    "train_metadata['speciesId'] = train_metadata['speciesId'].astype(int)"
   ]
  },
  {
   "cell_type": "code",
   "execution_count": null,
   "id": "5f7c7942-7ad3-405f-99c3-17a0d9eeef41",
   "metadata": {},
   "outputs": [],
   "source": [
    "train_label_series = train_metadata.groupby('speciesId')['surveyId'].apply(list)\n",
    "species_label = pd.DataFrame(train_label_series)\n",
    "#train_label_series = train_metadata.groupby('surveyId')['speciesId'].apply(list)\n",
    "#train_label_series.apply(len)"
   ]
  },
  {
   "cell_type": "code",
   "execution_count": null,
   "id": "36ea3ddb-b007-44d6-8255-add15ff3b4ff",
   "metadata": {},
   "outputs": [],
   "source": [
    "pa_presence_threshold = 10\n",
    "tmp = train_metadata[\"speciesId\"].value_counts() >= pa_presence_threshold\n",
    "train_metadata = train_metadata.loc[train_metadata[\"speciesId\"].isin(tmp[tmp].index)]\n",
    "train_metadata"
   ]
  },
  {
   "cell_type": "code",
   "execution_count": null,
   "id": "2a76354e-dbe9-4449-b277-3cc16dd1c871",
   "metadata": {},
   "outputs": [],
   "source": [
    "sp_categorical = train_metadata[\"speciesId\"].astype(\"category\").values\n",
    "sp_categorical.categories"
   ]
  },
  {
   "cell_type": "code",
   "execution_count": null,
   "id": "be16271a-5b1e-4ff9-9ae4-60a28db409ae",
   "metadata": {},
   "outputs": [],
   "source": [
    "train_metadata[\"speciesIdNew\"] = sp_categorical.categories[sp_categorical.codes]"
   ]
  },
  {
   "cell_type": "code",
   "execution_count": null,
   "id": "d20e4b85-df4a-470a-abc0-9002fc837997",
   "metadata": {},
   "outputs": [],
   "source": [
    "int(1e6)"
   ]
  },
  {
   "cell_type": "code",
   "execution_count": null,
   "id": "48e92b8a-b0eb-40f5-94c8-a30e296234ec",
   "metadata": {},
   "outputs": [],
   "source": [
    "train_metadata"
   ]
  },
  {
   "cell_type": "code",
   "execution_count": null,
   "id": "ba29036e-849e-46d8-ae13-a1a67b6c874f",
   "metadata": {},
   "outputs": [],
   "source": [
    "train_elevation = pd.read_csv(os.path.join(path_data, \"EnvironmentalValues\", \"Elevation\", \"GLC25-PA-train-elevation.csv\"))\n",
    "train_elevation['Elevation'].fillna((train_elevation['Elevation'].mean()), inplace=True)\n",
    "print(train_elevation.shape, train_elevation.isin([-np.inf]).sum(0).values, train_elevation.isin([-np.inf]).sum(0).values, train_elevation.isna().sum(0).values)"
   ]
  },
  {
   "cell_type": "code",
   "execution_count": null,
   "id": "6a2e2686-6922-4859-9421-273dcf085f28",
   "metadata": {},
   "outputs": [],
   "source": [
    "test_elevation = pd.read_csv(os.path.join(path_data, \"EnvironmentalValues\", \"Elevation\", \"GLC25-PA-test-elevation.csv\"))\n",
    "test_elevation['Elevation'].fillna((test_elevation['Elevation'].mean()), inplace=True)\n",
    "print(test_elevation.shape, test_elevation.isin([-np.inf]).sum(0).values, test_elevation.isin([-np.inf]).sum(0).values, test_elevation.isna().sum(0).values)"
   ]
  },
  {
   "cell_type": "code",
   "execution_count": null,
   "id": "bf19ef76-8707-49d9-b043-d95bf5757cd3",
   "metadata": {},
   "outputs": [],
   "source": [
    "train_soil = pd.read_csv(os.path.join(path_data, \"EnvironmentalValues\", \"SoilGrids\", \"GLC25-PA-train-soilgrids.csv\"))\n",
    "for column in train_soil.columns: train_soil[column].fillna((train_soil[column].mean()), inplace=True)\n",
    "print(train_soil.shape, train_soil.isin([-np.inf]).sum(0).values, train_soil.isin([-np.inf]).sum(0).values, train_soil.isna().sum(0).values, sep='\\n')"
   ]
  },
  {
   "cell_type": "code",
   "execution_count": null,
   "id": "d333c9b6-204c-41f4-9ea5-b62ee0c41d0a",
   "metadata": {},
   "outputs": [],
   "source": [
    "test_soil = pd.read_csv(os.path.join(path_data, \"EnvironmentalValues\", \"SoilGrids\", \"GLC25-PA-test-soilgrids.csv\"))\n",
    "for column in test_soil.columns: test_soil[column].fillna((test_soil[column].mean()), inplace=True)\n",
    "print(test_soil.shape, test_soil.isin([-np.inf]).sum(0).values, test_soil.isin([-np.inf]).sum(0).values, test_soil.isna().sum(0).values, sep='\\n')"
   ]
  },
  {
   "cell_type": "code",
   "execution_count": null,
   "id": "bfba94aa-c1de-403d-b055-134885f323e4",
   "metadata": {},
   "outputs": [],
   "source": [
    "combined = pd.concat([train_metadata, train_elevation.Elevation, train_soil.drop(\"surveyId\", axis=1)], axis=1)\n",
    "print(combined.isna().sum(0))\n",
    "combined"
   ]
  },
  {
   "cell_type": "code",
   "execution_count": null,
   "id": "53270e12-ffeb-47a5-a0e7-956fb1fadffa",
   "metadata": {},
   "outputs": [],
   "source": [
    "meta_columns = [\"areaInM2\", \"Elevation\"] + list(train_soil.columns[1:])\n",
    "meta_columns"
   ]
  },
  {
   "cell_type": "code",
   "execution_count": null,
   "id": "94133a73-1369-4887-8854-3a5e35a39419",
   "metadata": {},
   "outputs": [],
   "source": [
    "train_metadata.value_counts([\"areaInM2\", \"country\"])"
   ]
  },
  {
   "cell_type": "code",
   "execution_count": null,
   "id": "0e7a5003-c11e-4250-9d17-f68e0de1ca85",
   "metadata": {},
   "outputs": [],
   "source": [
    "train_metadata = pd.read_csv(os.path.join(path_data, \"GLC25_PA_metadata_train.csv\"))\n",
    "train_metadata.groupby('surveyId')['speciesId'].apply(list)[212]"
   ]
  },
  {
   "cell_type": "code",
   "execution_count": null,
   "id": "decdcdcb-f26d-41a9-b0b8-f492dd838fcf",
   "metadata": {},
   "outputs": [],
   "source": [
    "print(train_dataset[0][1].shape)\n",
    "#val = np.zeros([len(train_dataset)])\n",
    "#for i, d in enumerate(tqdm.tqdm(train_dataset)):\n",
    "#    val[i] = torch.sum(torch.sum(torch.reshape(torch.permute(d[1], [0,2,1]), [6, -1]), -2) == 0).numpy()"
   ]
  },
  {
   "cell_type": "code",
   "execution_count": null,
   "id": "38ba35b5-7833-497e-b739-b285dbeed7d6",
   "metadata": {},
   "outputs": [],
   "source": [
    "train_metadata.speciesId.drop_duplicates().sort_values()\n",
    "prev_min = 10\n",
    "train_metadata.value_counts(\"speciesId\").sort_index().pipe(lambda x: x[x>=prev_min])"
   ]
  },
  {
   "cell_type": "code",
   "execution_count": null,
   "id": "ac4ba8d8-944e-4aa9-ac56-ae375776fffc",
   "metadata": {},
   "outputs": [],
   "source": [
    "plt.plot(np.log10(train_metadata.value_counts(\"speciesId\").values))"
   ]
  },
  {
   "cell_type": "code",
   "execution_count": null,
   "id": "f23acc18-9661-4d00-9ceb-57b94c31b26d",
   "metadata": {},
   "outputs": [],
   "source": [
    "test_metadata = pd.read_csv(os.path.join(path_data, \"GLC25_PA_metadata_test.csv\"))\n",
    "test_metadata"
   ]
  },
  {
   "cell_type": "code",
   "execution_count": null,
   "id": "91e63f89-ddc2-462a-99a2-b031d44828f3",
   "metadata": {},
   "outputs": [],
   "source": [
    "(train_metadata.country.value_counts().cumsum() / test_metadata.shape[0]).index[:10].values"
   ]
  },
  {
   "cell_type": "code",
   "execution_count": null,
   "id": "9deb90ee-a548-4dc5-b950-992a2431030f",
   "metadata": {},
   "outputs": [],
   "source": [
    "\n",
    "test_metadata.country.isin(most_train_countries).sum()"
   ]
  },
  {
   "cell_type": "code",
   "execution_count": null,
   "id": "94741837-4ad0-42d6-88b6-e3ad11990cf2",
   "metadata": {},
   "outputs": [],
   "source": [
    "train_metadata"
   ]
  },
  {
   "cell_type": "code",
   "execution_count": null,
   "id": "adb8847d-ca50-4d86-b3f9-17353c0a6cc8",
   "metadata": {},
   "outputs": [],
   "source": [
    "train_metadata_surv = train_metadata.drop_duplicates(\"surveyId\")\n",
    "train_summary = pd.DataFrame(train_metadata_surv.value_counts(\"country\"))\n",
    "train_summary[\"prop\"] = train_summary.loc[:,\"count\"] / train_summary.loc[:,\"count\"].sum()\n",
    "train_summary"
   ]
  },
  {
   "cell_type": "code",
   "execution_count": null,
   "id": "559b9b86-cc1e-4c0e-a73e-bae08af6384f",
   "metadata": {},
   "outputs": [],
   "source": [
    "test_summary = pd.DataFrame(test_metadata.value_counts(\"country\"))\n",
    "test_summary[\"prop\"] = test_summary.loc[:,\"count\"] / test_summary.loc[:,\"count\"].sum()\n",
    "test_summary[\"cumprop\"] = test_summary.loc[:,\"prop\"].cumsum()\n",
    "test_summary"
   ]
  },
  {
   "cell_type": "code",
   "execution_count": null,
   "id": "0bc588f9-2827-46ba-afaf-4336d5cdf496",
   "metadata": {},
   "outputs": [],
   "source": [
    "test_summary.join(train_summary, lsuffix=\"_test\", rsuffix=\"_train\")"
   ]
  },
  {
   "cell_type": "code",
   "execution_count": null,
   "id": "6bd42b5d-c2ff-4648-974f-5ccc3811a8d6",
   "metadata": {},
   "outputs": [],
   "source": [
    "def set_seed(seed):\n",
    "    torch.manual_seed(seed) # Set seed for Python's built-in random number generator\n",
    "    np.random.seed(seed) # Set seed for numpy\n",
    "    if torch.cuda.is_available(): # Set seed for CUDA if available\n",
    "        torch.cuda.manual_seed_all(seed)\n",
    "        # Set cuDNN's random number generator seed for deterministic behavior\n",
    "        torch.backends.cudnn.deterministic = True\n",
    "        torch.backends.cudnn.benchmark = False\n",
    "\n",
    "set_seed(42)\n",
    "path_data = \"/home/gt/DATA/geolifeclef-2025\"\n",
    "train_path_sentinel = os.path.join(path_data, \"SatelitePatches/PA-train\")\n",
    "train_path_landsat = os.path.join(path_data, \"SateliteTimeSeries-Landsat/cubes/PA-train\")\n",
    "train_path_bioclim = os.path.join(path_data, \"BioclimTimeSeries/cubes/PA-train\")\n",
    "train_metadata = pd.read_csv(os.path.join(path_data, \"GLC25_PA_metadata_train.csv\"))\n",
    "train_metadata = train_metadata.dropna(subset=\"speciesId\").reset_index(drop=True)\n",
    "train_metadata['speciesId'] = train_metadata['speciesId'].astype(int)\n",
    "train_metadata[\"speciesIdOrig\"] = train_metadata['speciesId']\n",
    "tmp = train_metadata[\"speciesId\"].value_counts() >= pa_presence_threshold\n",
    "train_metadata.loc[~train_metadata[\"speciesId\"].isin(tmp[tmp].index), \"speciesId\"] = -1\n",
    "sp_categorical = train_metadata[\"speciesId\"].astype(\"category\").values\n",
    "num_classes = len(sp_categorical.categories)\n",
    "train_metadata['speciesId'] = sp_categorical.codes\n",
    "\n",
    "tmp = train_metadata.groupby(\"surveyId\").agg({\"surveyId\":\"first\", \"lat\":\"first\", \"lon\":\"first\", \"areaInM2\":lambda x: list(x.unique()), \"region\":\"first\", \"country\":\"first\", \"speciesId\":list})\n",
    "train_label_series = tmp.set_index(\"surveyId\").speciesId\n",
    "train_metadata = tmp.drop(columns=[\"speciesId\"]).set_index(\"surveyId\", drop=False)\n",
    "train_metadata[\"area\"] = train_metadata[\"areaInM2\"].apply(lambda x: 1.0 if np.isinf(x).all() else np.mean(x, where=~np.isinf(x)))\n",
    "train_metadata[\"areaLog\"] = np.log10(train_metadata[\"area\"])\n",
    "\n",
    "train_metadata['area'].fillna(train_metadata['area'].mean(), inplace=True)\n",
    "train_metadata['areaLog'].fillna(train_metadata['areaLog'].mean(), inplace=True)\n",
    "train_metadata[\"conFra\"] = train_metadata[\"country\"] == \"France\"\n",
    "train_metadata[\"conDen\"] = train_metadata[\"country\"] == \"Denmark\"\n",
    "train_metadata[\"conNet\"] = train_metadata[\"country\"] == \"Netherlands\"\n",
    "train_metadata[\"conIta\"] = train_metadata[\"country\"] == \"Italy\"\n",
    "train_metadata[\"conAus\"] = train_metadata[\"country\"] == \"Austria\"\n",
    "train_metadata[\"conOther\"] = ~train_metadata[\"country\"].isin([\"France\",\"Denmark\",\"Netherlands\",\"Italy\",\"Austria\"])\n",
    "train_elevation = pd.read_csv(os.path.join(path_data, \"EnvironmentalValues\", \"Elevation\", \"GLC25-PA-train-elevation.csv\"), index_col=0)\n",
    "train_elevation['Elevation'].fillna((train_elevation['Elevation'].mean()), inplace=True)\n",
    "train_soil = pd.read_csv(os.path.join(path_data, \"EnvironmentalValues\", \"SoilGrids\", \"GLC25-PA-train-soilgrids.csv\"), index_col=0)\n",
    "for column in train_soil.columns: train_soil[column].fillna((train_soil[column].mean()), inplace=True)\n",
    "train_worldcover = pd.read_csv(os.path.join(path_data, \"worldcover\", \"s2_pa_train_survey_points_with_worldcover.csv\"), index_col=0)\n",
    "train_wcdummy = pd.get_dummies(train_worldcover[\"class\"], prefix=\"wc\")\n",
    "train_wcdummy.drop(columns=\"wc_70\", inplace=True)\n",
    "train_wcdummy.drop(columns=\"wc_100\", inplace=True)\n",
    "train_landcover = pd.read_csv(os.path.join(path_data, \"EnvironmentalValues\", \"LandCover\", \"GLC25-PA-train-landcover.csv\"), index_col=0)\n",
    "landcover_col_ind = [0,2,3,5,8,11,12]\n",
    "train_landcover = train_landcover.iloc[:, landcover_col_ind]\n",
    "\n",
    "print(\"All rows match: \", (train_metadata.index==train_elevation.index).all() and (train_metadata.index==train_soil.index).all() \\\n",
    "     and (train_metadata.index==train_worldcover.index).all() and (train_metadata.index==train_landcover.index).all())\n",
    "cov_columns = [\"areaLog\", \"Elevation\", \"conFra\", \"conDen\", \"conNet\", \"conIta\", \"conAus\", \"conOther\"] + list(train_soil.columns) + list(train_wcdummy.columns) + list(train_landcover.columns)\n",
    "train_combined = pd.concat([train_metadata, train_elevation.Elevation, train_soil, train_wcdummy, train_landcover], axis=1)\n",
    "cov_norm_coef = train_combined.loc[:,cov_columns].agg(['mean', 'std'])\n",
    "dummy_columns = [\"conFra\",\"conDen\",\"conNet\",\"conIta\",\"conAus\",\"conOther\"] + list(train_wcdummy.columns)\n",
    "cov_norm_coef.loc[\"mean\",dummy_columns] = 0\n",
    "cov_norm_coef.loc[\"std\",dummy_columns] = 1\n",
    "train_combined.loc[:,cov_columns] = (train_combined.loc[:,cov_columns] - cov_norm_coef.loc[\"mean\"]) / cov_norm_coef.loc[\"std\"]\n",
    "\n",
    "val_ind = np.sort(train_combined.surveyId.sample(frac=validation_prop).values)\n",
    "train_data, val_data = [x.reset_index(drop=True) for _, x in train_combined.groupby(train_combined.surveyId.isin(val_ind))]\n",
    "train_label_dict = train_label_series[train_data.surveyId].to_dict()\n",
    "val_label_dict = train_label_series[val_data.surveyId].to_dict()\n",
    "train_dataset = TrainDataset(train_path_sentinel, train_path_landsat, train_path_bioclim, train_data, cov_columns, train_label_dict, \n",
    "                             subset=\"train\", num_classes=num_classes, transform_sentinel=transform_sentinel, transform_landsat=transform_landsat)\n",
    "train_loader = DataLoader(train_dataset, batch_size=batch_size, shuffle=True, num_workers=num_workers)\n",
    "val_dataset = TrainDataset(train_path_sentinel, train_path_landsat, train_path_bioclim, val_data, cov_columns, val_label_dict,\n",
    "                           subset=\"train\", num_classes=num_classes, transform_sentinel=transform_sentinel_test, transform_landsat=transform_landsat_test)\n",
    "val_loader = DataLoader(val_dataset, batch_size=batch_size, shuffle=False, num_workers=num_workers)\n",
    "print(train_dataset[0][0].shape, val_dataset[0][2].shape)"
   ]
  },
  {
   "cell_type": "code",
   "execution_count": null,
   "id": "3fa154af-beed-47b6-8b8d-e35a2d81f7f8",
   "metadata": {},
   "outputs": [],
   "source": [
    "pred = pd.read_csv(\"prithvi/0424_225841/0425_012850_e075_vloss0.008629_vf0.3079.csv\", index_col=0)\n",
    "test_metadata = pd.read_csv(os.path.join(path_data, \"GLC25_PA_metadata_test.csv\"), index_col=-1)\n",
    "pred = pd.concat([test_metadata, pred], axis=1)\n",
    "pred_na = pred.loc[pred.predictions.isna()]"
   ]
  },
  {
   "cell_type": "code",
   "execution_count": null,
   "id": "cca65a80-3dce-4345-ab67-f3b2b01b83e6",
   "metadata": {},
   "outputs": [],
   "source": [
    "pred_na"
   ]
  },
  {
   "cell_type": "code",
   "execution_count": null,
   "id": "f6198ee5-1b67-4012-a4e7-b5c62088e683",
   "metadata": {},
   "outputs": [],
   "source": [
    "pd.concat([test_metadata.value_counts(\"country\"), pred_na.value_counts(\"country\")], axis=1).fillna(0).astype(int)"
   ]
  },
  {
   "cell_type": "code",
   "execution_count": null,
   "id": "90bc163b-0291-49a9-a768-de9cb0ce7df2",
   "metadata": {},
   "outputs": [],
   "source": []
  },
  {
   "cell_type": "code",
   "execution_count": null,
   "id": "8300f5db-5c6a-4b85-85a3-df511b81af0a",
   "metadata": {},
   "outputs": [],
   "source": [
    "train_snow = pd.read_csv(os.path.join(path_data, \"EnvironmentalValues\", \"chelsa_snow\", \"pa_train_snowcover_chelsa_scd.csv\"), index_col=0).sort_index()\n",
    "train_snow"
   ]
  },
  {
   "cell_type": "code",
   "execution_count": null,
   "id": "83af8a99-87a2-4546-892f-24ca275552d4",
   "metadata": {},
   "outputs": [],
   "source": [
    "test_snow = pd.read_csv(os.path.join(path_data, \"EnvironmentalValues\", \"chelsa_snow\", \"pa_test_snowcover_chelsa_scd.csv\"), index_col=0).sort_index()\n",
    "test_snow"
   ]
  },
  {
   "cell_type": "code",
   "execution_count": null,
   "id": "48879dda-e736-4c5b-b5ac-c9ea30e69eff",
   "metadata": {},
   "outputs": [],
   "source": [
    "train_human = pd.read_csv(os.path.join(path_data, \"EnvironmentalValues\", \"chelsa_snow\", \"pa_train_snowcover_chelsa_scd.csv\"), index_col=0).sort_index()\n",
    "train_snow"
   ]
  }
 ],
 "metadata": {
  "kernelspec": {
   "display_name": "Python 3 (ipykernel)",
   "language": "python",
   "name": "python3"
  },
  "language_info": {
   "codemirror_mode": {
    "name": "ipython",
    "version": 3
   },
   "file_extension": ".py",
   "mimetype": "text/x-python",
   "name": "python",
   "nbconvert_exporter": "python",
   "pygments_lexer": "ipython3",
   "version": "3.12.3"
  }
 },
 "nbformat": 4,
 "nbformat_minor": 5
}
