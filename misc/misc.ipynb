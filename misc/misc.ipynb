{
 "cells": [
  {
   "cell_type": "code",
   "execution_count": null,
   "id": "3a7dcdb9-cc5a-4a6e-9418-25851b710cd4",
   "metadata": {},
   "outputs": [],
   "source": [
    "data_sentinel, data_landsat, data_cov, data_lonlat, targets, _ = next(iter(val_loader))\n",
    "data_sentinel = data_sentinel.to(device)[:,:,None,:,:]\n",
    "data_landsat, data_cov, data_lonlat, targets = data_landsat.to(device), data_cov.to(device), data_lonlat.to(device), targets.to(device)\n",
    "outputs = model(data_sentinel, data_landsat, data_cov, data_lonlat)\n",
    "criterion = torch.nn.BCEWithLogitsLoss()\n",
    "loss = criterion(outputs, targets)\n",
    "f1_score(outputs, targets, M=101, mult=1, offset=0)"
   ]
  }
 ],
 "metadata": {
  "kernelspec": {
   "display_name": "Python 3 (ipykernel)",
   "language": "python",
   "name": "python3"
  },
  "language_info": {
   "codemirror_mode": {
    "name": "ipython",
    "version": 3
   },
   "file_extension": ".py",
   "mimetype": "text/x-python",
   "name": "python",
   "nbconvert_exporter": "python",
   "pygments_lexer": "ipython3",
   "version": "3.12.3"
  }
 },
 "nbformat": 4,
 "nbformat_minor": 5
}
