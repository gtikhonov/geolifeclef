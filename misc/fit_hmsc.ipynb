{
 "cells": [
  {
   "cell_type": "code",
   "execution_count": null,
   "id": "d3d8f08d-2fdc-419b-914a-6aebf1f98bb4",
   "metadata": {},
   "outputs": [],
   "source": [
    "import sys\n",
    "import os\n",
    "import setuptools.dist\n",
    "import tensorflow as tf\n",
    "import tensorflow_probability as tfp\n",
    "import numpy as np\n",
    "from matplotlib import pyplot as plt\n",
    "sys.path.append('/home/gt/gdrive/HMSC/2022.06.03_HPC_development/hmsc-hpc')\n",
    "\n",
    "path_data = \"/home/gt/DATA/geolifeclef-2025\"\n",
    "modelTypeString = \"cov\"\n",
    "\n",
    "samN = 5\n",
    "thinN = 10000\n",
    "nChains = 1\n",
    "eagerExecFlag = 0\n",
    "fp = 64\n",
    "RS = 1\n",
    "transient = samN*thinN"
   ]
  },
  {
   "cell_type": "code",
   "execution_count": null,
   "id": "1a6564e9-8785-486d-9e70-e531575bbf14",
   "metadata": {},
   "outputs": [],
   "source": [
    "verbose = np.maximum(1, int((transient+samN*thinN)/100))\n",
    "dtype = np.float32 if fp == 32 else np.float64\n",
    "tf.config.run_functions_eagerly(eagerExecFlag)\n",
    "input_path = os.path.join(path_data, \"hmsc\", \"init\", \"init_%s_chain%.2d.rds\" % (modelTypeString, nChains))\n",
    "output_path = os.path.join(path_data, \"hmsc\", f\"fmTF_gtb{fp}\", \"TF_%s_chain%.2d_sam%.4d_thin%.4d.rds\" % (modelTypeString, nChains, samN, thinN))\n",
    "os.makedirs(os.path.join(path_data, \"hmsc\", f\"fmTF_gtb{fp}\"), exist_ok=True)\n",
    "gpus = tf.config.list_physical_devices('GPU')\n",
    "if gpus:\n",
    "    tf.config.experimental.set_virtual_device_configuration(gpus[0], [tf.config.experimental.VirtualDeviceConfiguration(memory_limit=11400)])\n",
    "\n",
    "# gpus = tf.config.list_physical_devices('GPU')\n",
    "# tf.config.experimental.set_memory_growth(gpus[0], True)\n",
    "\n",
    "args=\"\"\"--samples %d --transient %d --thin %d --verbose %d --input %s --output %s --fse 1 --tnlib tf --profile 0 --fp %d\"\"\" % (samN, transient, thinN, verbose, input_path, output_path, fp)\n",
    "run_cmd = '\"/home/gt/gdrive/HMSC/2022.06.03_HPC_development/hmsc-hpc/hmsc/run_gibbs_sampler.py\"' + \" \" + args\n",
    "GTB%run $run_cmd"
   ]
  },
  {
   "cell_type": "markdown",
   "id": "f5b63048-5e62-4773-a8e2-53a2df2a091c",
   "metadata": {},
   "source": [
    "### GTB\n",
    "\n",
    "ns 1000, 100000 iterations, 14164s\n",
    "\n",
    "### Mahti\n",
    "\n",
    "ns 1000, 2000 iterations, 32.5s\n",
    "\n",
    "ns 2519, 2000 iterations, 74s; 200000 iterations, 7440s"
   ]
  },
  {
   "cell_type": "markdown",
   "id": "9416dedf-1b88-4b9f-8717-43a676c2fa98",
   "metadata": {},
   "source": [
    "### Spatial 100, Mahti\n",
    "\n",
    "ns 2519, 2000 iterations, 135s"
   ]
  },
  {
   "cell_type": "code",
   "execution_count": null,
   "id": "327a10e4-6874-4705-9dea-3b3f8160ce6e",
   "metadata": {},
   "outputs": [],
   "source": [
    "rsync -av -e ssh gtb:/home/gt/DATA/geolifeclef-2025/hmsc /Users/gtikhono/DATA/geolifeclef/geolifeclef-2025/ ; rsync -av /Users/gtikhono/DATA/geolifeclef/geolifeclef-2025/hmsc/init -e ssh mahti:/scratch/project_2014077/geolifeclef/hmsc"
   ]
  },
  {
   "cell_type": "code",
   "execution_count": null,
   "id": "d9324e45-90a1-429a-b2cc-89c50d392d3d",
   "metadata": {},
   "outputs": [],
   "source": []
  }
 ],
 "metadata": {
  "kernelspec": {
   "display_name": "Python 3 (ipykernel)",
   "language": "python",
   "name": "python3"
  },
  "language_info": {
   "codemirror_mode": {
    "name": "ipython",
    "version": 3
   },
   "file_extension": ".py",
   "mimetype": "text/x-python",
   "name": "python",
   "nbconvert_exporter": "python",
   "pygments_lexer": "ipython3",
   "version": "3.12.8"
  }
 },
 "nbformat": 4,
 "nbformat_minor": 5
}
