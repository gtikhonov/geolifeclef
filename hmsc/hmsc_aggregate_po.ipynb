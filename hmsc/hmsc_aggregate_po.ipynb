{
 "cells": [
  {
   "cell_type": "code",
   "execution_count": null,
   "id": "b46fd399-663f-4d7d-ab0b-5e75d15afeef",
   "metadata": {},
   "outputs": [],
   "source": [
    "import os\n",
    "import sys\n",
    "import numpy as np\n",
    "import pandas as pd\n",
    "import torch\n",
    "from scipy.spatial import cKDTree\n",
    "from matplotlib import pyplot as plt\n",
    "sys.path.append('../prithvi/')\n",
    "from glc_datasets import TrainDataset, TestDataset, read_train_data, read_test_data\n",
    "\n",
    "if os.uname()[1] == \"gtbase\":\n",
    "    path_save = path_data = \"/home/gt/DATA/geolifeclef-2025\"\n",
    "    print(\"local, using\", f\"path_data=path_save={path_data}\")\n",
    "else:\n",
    "    path_data = os.environ['LOCAL_SCRATCH']\n",
    "    path_save = os.environ['GLC_SCRATCH']\n",
    "    print(\"mahti, using\", f\"path_data={path_data};\", f\"path_save={path_save}\")\n",
    "    os.listdir(os.environ['LOCAL_SCRATCH'])"
   ]
  },
  {
   "cell_type": "code",
   "execution_count": null,
   "id": "ad0fa36c-70ee-4bb0-b405-fba140b654a7",
   "metadata": {},
   "outputs": [],
   "source": [
    "data_po = pd.read_csv(os.path.join(path_data, \"PO_points_with_cell_id_net_90km.csv\"))"
   ]
  },
  {
   "cell_type": "code",
   "execution_count": null,
   "id": "d00e8cc7-8514-45e5-b85c-539fbe74177e",
   "metadata": {},
   "outputs": [],
   "source": [
    "data_po = data_po.dropna(subset=\"index_right\")\n",
    "data_po.speciesId = data_po.speciesId.astype(int)\n",
    "data_po.cell_id = data_po.cell_id.astype(int)\n",
    "#data_po.loc[:,[\"surveyId\",\"lon\",\"lat\",\"cell_id\",\"speciesId\"]]"
   ]
  },
  {
   "cell_type": "code",
   "execution_count": null,
   "id": "49a6687f-6d1e-4969-aae8-1f673acb387b",
   "metadata": {},
   "outputs": [],
   "source": [
    "metadata_po = data_po.groupby(\"surveyId\").agg({\"lon\": \"first\", \"lat\": \"first\", \"cell_id\": \"first\", \"speciesId\": lambda values : \",\".join(values.astype(str))})\n",
    "metadata_po "
   ]
  },
  {
   "cell_type": "code",
   "execution_count": null,
   "id": "2c0f95f8-b5eb-4313-ad8a-b2727b8e4bb8",
   "metadata": {},
   "outputs": [],
   "source": [
    "data_worldcover = pd.read_csv(os.path.join(path_data, \"worldcover\", \"po_train_survey_points_with_worldcover.csv\"), index_col=0)\n",
    "data_worldcover"
   ]
  },
  {
   "cell_type": "code",
   "execution_count": null,
   "id": "d485e2b8-9e80-42a8-8b05-1947f6f198aa",
   "metadata": {},
   "outputs": [],
   "source": [
    "meta = metadata_po.reset_index().merge(data_worldcover.loc[:,[\"lon\",\"lat\",\"class\"]], on=[\"lon\",\"lat\"])\n",
    "meta.set_index(\"surveyId\", drop=True, inplace=True)\n",
    "meta"
   ]
  },
  {
   "cell_type": "code",
   "execution_count": null,
   "id": "cbe5b3cd-ed8f-401e-9304-6da7371b0add",
   "metadata": {},
   "outputs": [],
   "source": [
    "tmp = meta.groupby([\"cell_id\",\"class\"]).agg({\"speciesId\": lambda values: \",\".join(values.astype(str))})\n",
    "pd.concat([tmp.speciesId.apply(lambda x: len(x.split(\",\"))), tmp.speciesId.apply(lambda x: len(set(x.split(\",\"))))], axis=1)"
   ]
  },
  {
   "cell_type": "code",
   "execution_count": null,
   "id": "df60db37-06ae-41a6-84f0-09a1e9409890",
   "metadata": {},
   "outputs": [],
   "source": [
    "cov_flag_list = [1, 0, 0, 0, 0, 0]\n",
    "pa_presence_threshold = 1\n",
    "sel_countries = [\"France\", \"Denmark\", \"Netherlands\", \"Italy\"]\n",
    "train_combined, train_label_series, sp_categories, cov_columns, cov_norm_coef, num_classes = read_train_data(path_data, cov_flag_list, sel_countries, pa_presence_threshold)"
   ]
  },
  {
   "cell_type": "code",
   "execution_count": null,
   "id": "12169bc9-3e73-4255-95d5-e2bbe986b74d",
   "metadata": {},
   "outputs": [],
   "source": [
    "pd.Categorical([int(x) for x in tmp.speciesId.iloc[0].split(\",\")], categories=sp_categories)"
   ]
  },
  {
   "cell_type": "code",
   "execution_count": null,
   "id": "4fcfa0a3-f776-4bc0-8def-6758a72e4ab4",
   "metadata": {},
   "outputs": [],
   "source": [
    "sp = tmp.speciesId.apply(lambda val: np.sort(pd.Categorical([int(x) for x in set(val.split(\",\"))], categories=sp_categories).codes))\n",
    "sp.loc[(3456,)]"
   ]
  },
  {
   "cell_type": "code",
   "execution_count": null,
   "id": "51d73bc4-6206-4b72-8ddc-50376be2fb17",
   "metadata": {},
   "outputs": [],
   "source": [
    "x_data_list = []\n",
    "for i in range(7):\n",
    "    x_data_list.append(pd.read_feather(os.path.join(path_data, \"hmsc\", \"po\", f\"po_cov{i:03d}.feather\")))\n",
    "x_data = pd.concat(x_data_list)\n",
    "x_data.set_index(\"index\", drop=True, inplace=True)"
   ]
  },
  {
   "cell_type": "code",
   "execution_count": null,
   "id": "b61261e0-6658-41f1-9299-b3c0c2885ba0",
   "metadata": {},
   "outputs": [],
   "source": [
    "meta_cov = meta.loc[:,[\"lon\",\"lat\",\"cell_id\",\"class\",\"speciesId\",]].join(x_data.loc[:,x_data.columns[:-2]])\n",
    "meta_cov"
   ]
  },
  {
   "cell_type": "code",
   "execution_count": null,
   "id": "7e004809-ad70-4f2b-a67a-42d9b1236244",
   "metadata": {},
   "outputs": [],
   "source": [
    "agg_dict = {\"speciesId\": lambda values: \",\".join(values.astype(str))}\n",
    "for colname in [\"lon\",\"lat\"] + list(x_data.columns[:-2]):\n",
    "    agg_dict[colname] = \"mean\"\n",
    "print(agg_dict)\n",
    "df_po = meta_cov.groupby([\"cell_id\",\"class\"]).agg(agg_dict)\n",
    "df_po"
   ]
  },
  {
   "cell_type": "code",
   "execution_count": null,
   "id": "d5a21469-9b39-455e-a424-bffb31b03aa7",
   "metadata": {},
   "outputs": [],
   "source": [
    "po_X = pd.concat([df_po.speciesId.apply(lambda val: len(val.split(\",\"))), df_po.drop(columns=\"speciesId\")], axis=1)\n",
    "po_X.rename(columns={\"speciesId\": \"obs\"}, inplace=True)\n",
    "po_X = po_X.reset_index()\n",
    "display(po_X)\n",
    "po_X.to_csv(os.path.join(path_data, \"hmsc\", \"po_X.csv\"), index=False)"
   ]
  },
  {
   "cell_type": "code",
   "execution_count": null,
   "id": "ea24804b-e736-4aed-ba18-d2c25d80ddf6",
   "metadata": {},
   "outputs": [],
   "source": [
    "def splist_to_vector(val):\n",
    "    species_ids = np.sort(pd.Categorical([int(x) for x in set(val.split(\",\"))], categories=sp_categories).codes)\n",
    "    species_ids = species_ids[species_ids>=0].astype(int)\n",
    "    vec = torch.zeros(num_classes, dtype=int).scatter(0, torch.tensor(species_ids), torch.ones(len(species_ids), dtype=int))\n",
    "    return vec.numpy()\n",
    "\n",
    "df_Y = df_po.speciesId.apply(splist_to_vector)\n",
    "po_Y = pd.DataFrame(np.stack(df_Y.values), index=df_Y.index)\n",
    "display(po_Y)\n",
    "po_Y.to_csv(os.path.join(path_data, \"hmsc\", \"po_Y.csv\"), index=False)"
   ]
  },
  {
   "cell_type": "code",
   "execution_count": null,
   "id": "1134c18b-9ed5-4f89-a5e4-dde241d307fd",
   "metadata": {},
   "outputs": [],
   "source": [
    "n_vec = [100, 200, 400]\n",
    "colnames = [f\"clusters{n}\" for n in n_vec]\n",
    "train_clusters = pd.DataFrame(index=train_combined.index, columns=colnames)\n",
    "po_clusters = pd.DataFrame(index=po_X.index, columns=colnames)\n",
    "for k, n in enumerate(n_vec):\n",
    "    centroids = pd.read_csv(os.path.join(path_data, \"hmsc\", \"centroids_po_pa\", f\"centroids_k{n}.csv\"))\n",
    "    btree = cKDTree(centroids.loc[:,[\"lon\",\"lat\"]])\n",
    "    train_clusters.iloc[:,k] = btree.query(train_combined.loc[:,[\"lon\",\"lat\"]], k=1)[1]\n",
    "    po_clusters.iloc[:,k] = btree.query(po_X.loc[:,[\"lon\",\"lat\"]], k=1)[1]\n",
    "train_clusters.to_csv(os.path.join(path_data, \"hmsc\", \"centroids_po_pa\", \"train_clusters.csv\"), index=False)\n",
    "po_clusters.to_csv(os.path.join(path_data, \"hmsc\", \"centroids_po_pa\", \"po_clusters.csv\"), index=False)"
   ]
  },
  {
   "cell_type": "code",
   "execution_count": null,
   "id": "c142b2c8-3a32-4e8e-939b-2d08dcff18c2",
   "metadata": {},
   "outputs": [],
   "source": [
    "k = 0\n",
    "n = n_vec[k]\n",
    "ind = [0, 111, 7557, 753, 8745]\n",
    "centroids = pd.read_csv(os.path.join(path_data, \"hmsc\", \"centroids_po_pa\", f\"centroids_k{n}.csv\"))\n",
    "fig, ax = plt.subplots(ncols=2, figsize=[18,6])\n",
    "ax[0].scatter(centroids.lon, centroids.lat, s=1, color=\"black\")\n",
    "for i, row in centroids.iterrows():\n",
    "    ax[0].annotate(f\"{i:03d}\", (row.lon, row.lat), color=\"black\")\n",
    "ax[0].scatter(train_combined.lon.iloc[ind], train_combined.lat.iloc[ind], s=10, color=\"red\")\n",
    "for i in ind:\n",
    "    ax[0].annotate(f\"{train_clusters.iloc[i,k]:03d}\", tuple(train_combined.iloc[i][[\"lon\", \"lat\"]]), color=\"red\")\n",
    "\n",
    "ax[1].scatter(centroids.lon, centroids.lat, s=1, color=\"black\")\n",
    "for i, row in centroids.iterrows():\n",
    "    ax[1].annotate(f\"{i:03d}\", (row.lon, row.lat), color=\"black\")\n",
    "ax[1].scatter(po_X.lon.iloc[ind], po_X.lat.iloc[ind], s=10, color=\"blue\")\n",
    "for i in ind:\n",
    "    ax[1].annotate(f\"{po_clusters.iloc[i,k]:03d}\", tuple(po_X.iloc[i][[\"lon\", \"lat\"]]), color=\"blue\")\n",
    "\n",
    "plt.show()"
   ]
  },
  {
   "cell_type": "code",
   "execution_count": null,
   "id": "4c64e90b-3142-4f4c-b785-b4964956eda0",
   "metadata": {},
   "outputs": [],
   "source": [
    "file_list = os.listdir(os.path.join(path_data, \"hmsc\", \"po\"))\n",
    "file_list.sort()\n",
    "file_list"
   ]
  },
  {
   "cell_type": "code",
   "execution_count": null,
   "id": "4fabd769-8884-468d-93ec-6be37504bd67",
   "metadata": {},
   "outputs": [],
   "source": [
    "from importlib import reload\n",
    "sys.path.append('../prithvi/')\n",
    "import glc_datasets\n",
    "reload(glc_datasets)\n",
    "from glc_datasets import TrainDataset, TestDataset, read_train_data, read_test_data"
   ]
  },
  {
   "cell_type": "code",
   "execution_count": null,
   "id": "56da4b33-1642-407e-ad41-7fbf3115c55b",
   "metadata": {},
   "outputs": [],
   "source": []
  }
 ],
 "metadata": {
  "kernelspec": {
   "display_name": "Python 3 (ipykernel)",
   "language": "python",
   "name": "python3"
  },
  "language_info": {
   "codemirror_mode": {
    "name": "ipython",
    "version": 3
   },
   "file_extension": ".py",
   "mimetype": "text/x-python",
   "name": "python",
   "nbconvert_exporter": "python",
   "pygments_lexer": "ipython3",
   "version": "3.12.3"
  }
 },
 "nbformat": 4,
 "nbformat_minor": 5
}
