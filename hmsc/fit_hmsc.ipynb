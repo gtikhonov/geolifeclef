{
 "cells": [
  {
   "cell_type": "code",
   "execution_count": 1,
   "id": "d3d8f08d-2fdc-419b-914a-6aebf1f98bb4",
   "metadata": {},
   "outputs": [
    {
     "name": "stderr",
     "output_type": "stream",
     "text": [
      "2025-05-06 06:49:02.593648: E external/local_xla/xla/stream_executor/cuda/cuda_fft.cc:477] Unable to register cuFFT factory: Attempting to register factory for plugin cuFFT when one has already been registered\n",
      "WARNING: All log messages before absl::InitializeLog() is called are written to STDERR\n",
      "E0000 00:00:1746503342.605920  459870 cuda_dnn.cc:8310] Unable to register cuDNN factory: Attempting to register factory for plugin cuDNN when one has already been registered\n",
      "E0000 00:00:1746503342.609541  459870 cuda_blas.cc:1418] Unable to register cuBLAS factory: Attempting to register factory for plugin cuBLAS when one has already been registered\n",
      "2025-05-06 06:49:02.623259: I tensorflow/core/platform/cpu_feature_guard.cc:210] This TensorFlow binary is optimized to use available CPU instructions in performance-critical operations.\n",
      "To enable the following instructions: AVX2 FMA, in other operations, rebuild TensorFlow with the appropriate compiler flags.\n"
     ]
    }
   ],
   "source": [
    "import sys\n",
    "import os\n",
    "import setuptools.dist\n",
    "import tensorflow as tf\n",
    "import tensorflow_probability as tfp\n",
    "import numpy as np\n",
    "from matplotlib import pyplot as plt\n",
    "sys.path.append('/home/gt/gdrive/HMSC/2022.06.03_HPC_development/hmsc-hpc')\n",
    "\n",
    "path_data = \"/home/gt/DATA/geolifeclef-2025\"\n",
    "modelTypeString = \"cov\"\n",
    "\n",
    "samN = 5\n",
    "thinN = 10000\n",
    "nChains = 1\n",
    "eagerExecFlag = 0\n",
    "fp = 64\n",
    "RS = 1\n",
    "transient = samN*thinN"
   ]
  },
  {
   "cell_type": "code",
   "execution_count": 2,
   "id": "1a6564e9-8785-486d-9e70-e531575bbf14",
   "metadata": {},
   "outputs": [
    {
     "name": "stdout",
     "output_type": "stream",
     "text": [
      "args=Namespace(samples=5, transient=50000, thin=10000, chains=None, input='/home/gt/DATA/geolifeclef-2025/hmsc/init/init_cov_chain01.rds', output='/home/gt/DATA/geolifeclef-2025/hmsc/fmTF_gtb64/TF_cov_chain01_sam0005_thin10000.rds', verbose=1000, hmcleapfrog=10, hmcthin=0, updbe=0, tnlib='tf', fse=1, profile=0, rngseed=0, fp=64)\n",
      "working directory /home/gt/gdrive/geolifeclef/hmsc\n"
     ]
    },
    {
     "name": "stderr",
     "output_type": "stream",
     "text": [
      "I0000 00:00:1746503356.012027  459870 gpu_device.cc:2022] Created device /job:localhost/replica:0/task:0/device:GPU:0 with 11400 MB memory:  -> device: 0, name: NVIDIA GeForce RTX 4070 SUPER, pci bus id: 0000:01:00.0, compute capability: 8.9\n",
      "WARNING: All log messages before absl::InitializeLog() is called are written to STDERR\n",
      "I0000 00:00:1746503356.164158  459870 cuda_solvers.cc:178] Creating GpuSolver handles for stream 0xaa06da70\n"
     ]
    },
    {
     "name": "stdout",
     "output_type": "stream",
     "text": [
      "Initializing TF graph\n",
      "retracing\n",
      "sampling\n",
      "TF graph initialized in 266.6 sec\n",
      "Running TF Gibbs sampler for 1 chains with indices [0]\n",
      "\n",
      " Computing chain 0\n",
      "sampling\n",
      "iteration 100000 / 100000 saving 5\n",
      " 1 chains completed in 14164.5 sec\n",
      "\n",
      " Whole Gibbs sampler elapsed 14164.5\n",
      "done\n"
     ]
    }
   ],
   "source": [
    "verbose = np.maximum(1, int((transient+samN*thinN)/100))\n",
    "dtype = np.float32 if fp == 32 else np.float64\n",
    "tf.config.run_functions_eagerly(eagerExecFlag)\n",
    "input_path = os.path.join(path_data, \"hmsc\", \"init\", \"init_%s_chain%.2d.rds\" % (modelTypeString, nChains))\n",
    "output_path = os.path.join(path_data, \"hmsc\", f\"fmTF_gtb{fp}\", \"TF_%s_chain%.2d_sam%.4d_thin%.4d.rds\" % (modelTypeString, nChains, samN, thinN))\n",
    "os.makedirs(os.path.join(path_data, \"hmsc\", f\"fmTF_gtb{fp}\"), exist_ok=True)\n",
    "gpus = tf.config.list_physical_devices('GPU')\n",
    "if gpus:\n",
    "    tf.config.experimental.set_virtual_device_configuration(gpus[0], [tf.config.experimental.VirtualDeviceConfiguration(memory_limit=11400)])\n",
    "\n",
    "# gpus = tf.config.list_physical_devices('GPU')\n",
    "# tf.config.experimental.set_memory_growth(gpus[0], True)\n",
    "\n",
    "args=\"\"\"--samples %d --transient %d --thin %d --verbose %d --input %s --output %s --fse 1 --tnlib tf --profile 0 --fp %d\"\"\" % (samN, transient, thinN, verbose, input_path, output_path, fp)\n",
    "run_cmd = '\"/home/gt/gdrive/HMSC/2022.06.03_HPC_development/hmsc-hpc/hmsc/run_gibbs_sampler.py\"' + \" \" + args\n",
    "GTB%run $run_cmd"
   ]
  },
  {
   "cell_type": "markdown",
   "id": "f5b63048-5e62-4773-a8e2-53a2df2a091c",
   "metadata": {},
   "source": [
    "### GTB\n",
    "\n",
    "ns 1000, 100000 iterations, 14164s\n",
    "\n",
    "### Mahti\n",
    "\n",
    "ns 1000, 2000 iterations, 32.5s\n",
    "\n",
    "ns 2519, 2000 iterations, 74s; 200000 iterations, 7440s"
   ]
  },
  {
   "cell_type": "markdown",
   "id": "9416dedf-1b88-4b9f-8717-43a676c2fa98",
   "metadata": {},
   "source": [
    "### Spatial 100, Mahti\n",
    "\n",
    "ns 2519, 2000 iterations, 135s"
   ]
  },
  {
   "cell_type": "code",
   "execution_count": null,
   "id": "327a10e4-6874-4705-9dea-3b3f8160ce6e",
   "metadata": {},
   "outputs": [],
   "source": [
    "rsync -av -e ssh gtb:/home/gt/DATA/geolifeclef-2025/hmsc /Users/gtikhono/DATA/geolifeclef/geolifeclef-2025/ ; rsync -av /Users/gtikhono/DATA/geolifeclef/geolifeclef-2025/hmsc/init -e ssh mahti:/scratch/project_2014077/geolifeclef/hmsc"
   ]
  },
  {
   "cell_type": "code",
   "execution_count": null,
   "id": "d9324e45-90a1-429a-b2cc-89c50d392d3d",
   "metadata": {},
   "outputs": [],
   "source": []
  }
 ],
 "metadata": {
  "kernelspec": {
   "display_name": "Python 3 (ipykernel)",
   "language": "python",
   "name": "python3"
  },
  "language_info": {
   "codemirror_mode": {
    "name": "ipython",
    "version": 3
   },
   "file_extension": ".py",
   "mimetype": "text/x-python",
   "name": "python",
   "nbconvert_exporter": "python",
   "pygments_lexer": "ipython3",
   "version": "3.12.3"
  }
 },
 "nbformat": 4,
 "nbformat_minor": 5
}
