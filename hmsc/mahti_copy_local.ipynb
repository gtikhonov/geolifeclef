{
 "cells": [
  {
   "cell_type": "code",
   "execution_count": null,
   "id": "79604153-1eb6-4858-b79f-22a97023114a",
   "metadata": {},
   "outputs": [],
   "source": [
    "import os\n",
    "path_data = os.environ['GLC_SCRATCH']\n",
    "print(\"mahti, using\", path_data)\n",
    "os.listdir(path_data)"
   ]
  },
  {
   "cell_type": "code",
   "execution_count": null,
   "id": "18717c30-6eb9-4afd-981b-72360bb5f664",
   "metadata": {},
   "outputs": [],
   "source": [
    "print(\"copy zips to local\")\n",
    "os.popen('cp -rn $GLC_SCRATCH/zips $LOCAL_SCRATCH/zips').read()\n",
    "print(\"copy zips to local - done\")"
   ]
  },
  {
   "cell_type": "code",
   "execution_count": null,
   "id": "62dc4123-2d31-4edc-98fe-9f817abf1272",
   "metadata": {},
   "outputs": [],
   "source": [
    "print(\"unzip kaggle\")\n",
    "os.popen('unzip $LOCAL_SCRATCH/zips/kaggle.zip -d $LOCAL_SCRATCH').read()\n",
    "print(\"unzip kaggle - done\")"
   ]
  },
  {
   "cell_type": "code",
   "execution_count": null,
   "id": "3ab99610-139a-4e76-a5c2-9b54f3382cc5",
   "metadata": {},
   "outputs": [],
   "source": [
    "print(\"copy worldcover to local\")\n",
    "os.popen('cp -rn $GLC_SCRATCH/worldcover $LOCAL_SCRATCH/worldcover').read()\n",
    "print(\"copy worldcover to local - done\")\n",
    "print(\"copy snow to local\")\n",
    "os.popen('cp -rn $GLC_SCRATCH/EnvironmentalValues/chelsa_snow $LOCAL_SCRATCH/EnvironmentalValues/chelsa_snow').read()\n",
    "print(\"copy worldcover to local - done\")\n",
    "print(\"copy prithvi weights to local\")\n",
    "os.popen('mkdir -p $LOCAL_SCRATCH/hmsc').read()\n",
    "os.popen('cp -rn $GLC_SCRATCH/hmsc/0507_135023_weights75.pth $LOCAL_SCRATCH/hmsc/0507_135023_weights75.pth').read()\n",
    "print(\"copy prithvi weights to local - done\")\n",
    "print(\"copy LandCover to local\")\n",
    "os.popen('cp -rn $GLC_SCRATCH/EnvironmentalValues/LandCover $LOCAL_SCRATCH/EnvironmentalValues/LandCover').read()\n",
    "print(\"copy LandCover to local - done\")\n",
    "print(\"copy PO_countries to local\")\n",
    "os.popen('cp -rn $GLC_SCRATCH/po_with_countries.csv $LOCAL_SCRATCH/po_with_countries.csv').read()\n",
    "print(\"copy PO_countries to local - done\")"
   ]
  },
  {
   "cell_type": "code",
   "execution_count": null,
   "id": "8df1d0ff-df59-4da3-a86c-e559ec8b5523",
   "metadata": {},
   "outputs": [],
   "source": [
    "print(\"tar Sentinel\")\n",
    "os.popen('tar xf $LOCAL_SCRATCH/zips/sentinel.tar --directory=$LOCAL_SCRATCH/SatelitePatches/').read()\n",
    "print(\"tar Sentinel - done\")"
   ]
  },
  {
   "cell_type": "code",
   "execution_count": null,
   "id": "954853af-4bad-4572-b860-d13c1ab458c3",
   "metadata": {},
   "outputs": [],
   "source": [
    "print(\"unzip Bioclim\")\n",
    "os.popen('unzip $LOCAL_SCRATCH/zips/bioclim.zip -d $LOCAL_SCRATCH/BioclimTimeSeries/').read()\n",
    "print(\"unzip Bioclim - done\")"
   ]
  },
  {
   "cell_type": "code",
   "execution_count": null,
   "id": "57673ad9-ddee-444a-a451-6cd8554bfcd3",
   "metadata": {},
   "outputs": [],
   "source": [
    "print(\"unzip Landsat\")\n",
    "os.popen('unzip $LOCAL_SCRATCH/zips/landsat.zip -d $LOCAL_SCRATCH/SateliteTimeSeries-Landsat/').read()\n",
    "print(\"unzip Landsat - done\")"
   ]
  },
  {
   "cell_type": "code",
   "execution_count": null,
   "id": "097a91e5-bfda-440a-bbea-87058b7c041d",
   "metadata": {},
   "outputs": [],
   "source": [
    "os.listdir(os.environ['LOCAL_SCRATCH'] + \"/zips\")"
   ]
  },
  {
   "cell_type": "code",
   "execution_count": null,
   "id": "b5de5e83-f252-47b6-a837-d2cc63b37a4f",
   "metadata": {},
   "outputs": [],
   "source": [
    "os.listdir(os.environ['LOCAL_SCRATCH'] + \"/hmsc\")"
   ]
  },
  {
   "cell_type": "code",
   "execution_count": null,
   "id": "b58dc2ba-a7cd-4b41-802d-2b62d8539544",
   "metadata": {},
   "outputs": [],
   "source": []
  }
 ],
 "metadata": {
  "kernelspec": {
   "display_name": "Python 3 (ipykernel)",
   "language": "python",
   "name": "python3"
  },
  "language_info": {
   "codemirror_mode": {
    "name": "ipython",
    "version": 3
   },
   "file_extension": ".py",
   "mimetype": "text/x-python",
   "name": "python",
   "nbconvert_exporter": "python",
   "pygments_lexer": "ipython3",
   "version": "3.12.8"
  }
 },
 "nbformat": 4,
 "nbformat_minor": 5
}
