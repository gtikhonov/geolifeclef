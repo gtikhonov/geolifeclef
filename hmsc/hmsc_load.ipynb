{
 "cells": [
  {
   "cell_type": "code",
   "execution_count": 1,
   "id": "f72385c7-ca46-45fa-bd85-7c6c08c64862",
   "metadata": {},
   "outputs": [],
   "source": [
    "import warnings\n",
    "warnings.filterwarnings(\"ignore\")\n",
    "import os\n",
    "import numpy as np\n",
    "from tqdm.notebook import tqdm\n",
    "import pandas as pd\n",
    "import rasterio\n",
    "import random\n",
    "from datetime import datetime\n",
    "import matplotlib.pyplot as plt\n",
    "from sklearn.metrics import precision_recall_fscore_support\n",
    "\n",
    "import torch\n",
    "from torch.utils.data import Dataset, DataLoader"
   ]
  },
  {
   "cell_type": "code",
   "execution_count": 2,
   "id": "84c72c32-ea08-49d1-850f-7fd669696b9b",
   "metadata": {},
   "outputs": [],
   "source": [
    "path_data = \"/home/gt/DATA/geolifeclef-2025\"\n",
    "nc = 69\n",
    "ns = 2519\n",
    "nu = 100\n",
    "nf = 10\n",
    "n_samples = 100\n",
    "thin = 1000\n",
    "model_type_string = f\"nc{nc:04d}_ns{ns:04d}_np{nu:04d}\"\n",
    "pred_filename = f\"pred_{model_type_string}_sam{n_samples:04d}_thin{thin:04d}.csv\"\n",
    "test_pred = pd.read_csv(os.path.join(path_data, \"hmsc\", \"pred\", pred_filename))"
   ]
  },
  {
   "cell_type": "code",
   "execution_count": 3,
   "id": "4094ef1a-c11c-4ddf-8d7d-ea7d68bae017",
   "metadata": {},
   "outputs": [],
   "source": [
    "def f1_score(outputs, targets=None, M=400, mult=1, offset=0, device=torch.device(\"cpu\")):\n",
    "    num_classes = outputs.shape[-1]\n",
    "    prob_ord = torch.argsort(outputs, dim=-1, descending=True)\n",
    "    log_prob = torch.gather(outputs, -1, prob_ord)\n",
    "    sample = torch.bernoulli(torch.sigmoid(log_prob).repeat(M, 1, 1))\n",
    "    cum_sum = torch.cat([torch.zeros([M,outputs.shape[0],1],device=device), torch.cumsum(sample, -1)], -1)\n",
    "    rev_cum_sum = torch.cat([torch.flip(torch.cumsum(torch.flip(sample, [-1]), -1), [-1]), torch.zeros([M,outputs.shape[0],1],device=device)], -1)\n",
    "    f1_values = cum_sum / (cum_sum + 0.5*(torch.arange(num_classes+1,device=device)-cum_sum) + 0.5*rev_cum_sum)\n",
    "    f1_values[:,:,0] = 0\n",
    "    f1_expected = torch.nanmean(f1_values, 0)\n",
    "    # print(f1_expected)\n",
    "    pred_num = torch.argmax(f1_expected, -1)\n",
    "    pred_num = torch.maximum(torch.minimum(torch.round(mult*pred_num+offset), torch.Tensor([outputs.shape[-1]]).to(device)), torch.zeros([1],device=device)).int()\n",
    "        \n",
    "    if targets is None:\n",
    "        pred_list = [prob_ord[i,:pred_num[i]] for i in range(outputs.shape[0])]\n",
    "        return pred_list\n",
    "    else:\n",
    "        pred_list = [torch.cat([torch.ones([pred_num[i]],device=device), torch.zeros([outputs.shape[-1]-pred_num[i]],device=device)]) for i in range(outputs.shape[0])]\n",
    "        targets_ordered = torch.gather(targets, -1, prob_ord)\n",
    "        pred_ordered = torch.stack(pred_list)\n",
    "        f1 = torch.sum(torch.logical_and(targets_ordered, pred_ordered), -1) / torch.sum(torch.logical_or(targets_ordered, pred_ordered), -1)\n",
    "        return f1"
   ]
  },
  {
   "cell_type": "code",
   "execution_count": 4,
   "id": "28d9fee4-42da-4c22-ad06-e73b724ac449",
   "metadata": {},
   "outputs": [],
   "source": [
    "pa_presence_threshold = 1\n",
    "train_path_sentinel = os.path.join(path_data, \"SatelitePatches/PA-train\")\n",
    "train_path_landsat = os.path.join(path_data, \"SateliteTimeSeries-Landsat/cubes/PA-train\")\n",
    "train_path_bioclim = os.path.join(path_data, \"BioclimTimeSeries/cubes/PA-train\")\n",
    "train_metadata = pd.read_csv(os.path.join(path_data, \"GLC25_PA_metadata_train.csv\"))\n",
    "train_metadata = train_metadata.dropna(subset=\"speciesId\").reset_index(drop=True)\n",
    "train_metadata['speciesId'] = train_metadata['speciesId'].astype(int)\n",
    "train_metadata[\"speciesIdOrig\"] = train_metadata['speciesId']\n",
    "tmp = train_metadata[\"speciesId\"].value_counts() >= pa_presence_threshold\n",
    "train_metadata.loc[~train_metadata[\"speciesId\"].isin(tmp[tmp].index), \"speciesId\"] = -1\n",
    "sp_categorical = train_metadata[\"speciesId\"].astype(\"category\").values\n",
    "num_classes = len(sp_categorical.categories)\n",
    "train_metadata['speciesId'] = sp_categorical.codes\n",
    "test_metadata = pd.read_csv(os.path.join(path_data, \"GLC25_PA_metadata_test.csv\")).set_index(\"surveyId\", drop=False).sort_index()"
   ]
  },
  {
   "cell_type": "code",
   "execution_count": 5,
   "id": "466c4737-12bc-4841-9ce9-9ce89d4ac11d",
   "metadata": {},
   "outputs": [],
   "source": [
    "batch_size = 64\n",
    "\n",
    "class PredDataset(Dataset):\n",
    "    def __init__(self, pred):\n",
    "        self.pred = pred\n",
    "\n",
    "    def __len__(self):\n",
    "        return self.pred.shape[0]\n",
    "\n",
    "    def __getitem__(self, idx):\n",
    "        return self.pred.iloc[idx].values\n",
    "\n",
    "test_loader = DataLoader(PredDataset(test_pred), batch_size=batch_size, shuffle=False, num_workers=1)"
   ]
  },
  {
   "cell_type": "code",
   "execution_count": 6,
   "id": "834d7da9-44a9-46dd-aae3-43b8f106febd",
   "metadata": {},
   "outputs": [
    {
     "name": "stdout",
     "output_type": "stream",
     "text": [
      "DEVICE = CUDA\n"
     ]
    }
   ],
   "source": [
    "device = torch.device(\"cpu\")\n",
    "if torch.cuda.is_available():\n",
    "    device = torch.device(\"cuda\")\n",
    "    print(\"DEVICE = CUDA\")"
   ]
  },
  {
   "cell_type": "code",
   "execution_count": 7,
   "id": "af73e64a-bcc4-4c9d-9631-4ed9edb75902",
   "metadata": {},
   "outputs": [
    {
     "data": {
      "application/vnd.jupyter.widget-view+json": {
       "model_id": "b44c81f4360c4fc6b7a1c2d592534259",
       "version_major": 2,
       "version_minor": 0
      },
      "text/plain": [
       "prediction:   0%|          | 0/231 [00:00<?, ?it/s]"
      ]
     },
     "metadata": {},
     "output_type": "display_data"
    }
   ],
   "source": [
    "with torch.no_grad():\n",
    "    top_indices = []\n",
    "    for outputs in tqdm(test_loader, total=len(test_loader),  desc=\"prediction\"):\n",
    "        outputs = torch.logit(outputs.to(device))\n",
    "        top_batch_list_orig = f1_score(outputs, None, device=device)\n",
    "        top_batch_list_proc = [np.sort(sp_categorical.categories[pred.cpu().numpy()]) for pred in top_batch_list_orig]\n",
    "        top_indices += top_batch_list_proc"
   ]
  },
  {
   "cell_type": "code",
   "execution_count": 8,
   "id": "45b2e696-9728-45c7-8dbe-d97fc8505f42",
   "metadata": {},
   "outputs": [
    {
     "data": {
      "text/plain": [
       "tensor([[-6.9068,    -inf, -2.7166,  ...,    -inf,    -inf,    -inf],\n",
       "        [   -inf,    -inf, -6.9068,  ...,    -inf,    -inf,    -inf],\n",
       "        [   -inf,    -inf,    -inf,  ...,    -inf,    -inf,    -inf],\n",
       "        ...,\n",
       "        [   -inf,    -inf,    -inf,  ...,    -inf,    -inf,    -inf],\n",
       "        [   -inf,    -inf,    -inf,  ...,    -inf,    -inf,    -inf],\n",
       "        [   -inf,    -inf,    -inf,  ...,    -inf,    -inf,    -inf]],\n",
       "       device='cuda:0', dtype=torch.float64)"
      ]
     },
     "execution_count": 8,
     "metadata": {},
     "output_type": "execute_result"
    }
   ],
   "source": [
    "outputs"
   ]
  },
  {
   "cell_type": "code",
   "execution_count": 9,
   "id": "f2269151-f20c-48ed-9d23-4c15983e5931",
   "metadata": {},
   "outputs": [],
   "source": [
    "data_concatenated = [' '.join(map(str, row)) for row in top_indices]\n",
    "timestamp = datetime.now().strftime('%Y%m%d_%H%M%S')\n",
    "res = pd.DataFrame({'surveyId': test_metadata.surveyId.values, 'predictions': data_concatenated})"
   ]
  },
  {
   "cell_type": "code",
   "execution_count": 10,
   "id": "42976431-0925-4aba-96c1-91ce79591994",
   "metadata": {},
   "outputs": [],
   "source": [
    "os.makedirs(os.path.join(path_data, \"hmsc\", \"result\"), exist_ok=True)\n",
    "timestamp = datetime.now().strftime('%m%d_%H%M%S')\n",
    "res_filename = f\"{timestamp}_res_{model_type_string}_sam{n_samples:04d}_thin{thin:04d}.csv\"\n",
    "res.to_csv(os.path.join(path_data, \"hmsc\", \"result\", res_filename), index=False)"
   ]
  },
  {
   "cell_type": "code",
   "execution_count": 11,
   "id": "27716cbf-1284-46da-8bf3-7340280025bf",
   "metadata": {},
   "outputs": [
    {
     "data": {
      "text/html": [
       "<div>\n",
       "<style scoped>\n",
       "    .dataframe tbody tr th:only-of-type {\n",
       "        vertical-align: middle;\n",
       "    }\n",
       "\n",
       "    .dataframe tbody tr th {\n",
       "        vertical-align: top;\n",
       "    }\n",
       "\n",
       "    .dataframe thead th {\n",
       "        text-align: right;\n",
       "    }\n",
       "</style>\n",
       "<table border=\"1\" class=\"dataframe\">\n",
       "  <thead>\n",
       "    <tr style=\"text-align: right;\">\n",
       "      <th></th>\n",
       "      <th>surveyId</th>\n",
       "      <th>predictions</th>\n",
       "    </tr>\n",
       "  </thead>\n",
       "  <tbody>\n",
       "    <tr>\n",
       "      <th>0</th>\n",
       "      <td>642</td>\n",
       "      <td>53 254 300 791 843 958 963 976 1264 1707 1888 ...</td>\n",
       "    </tr>\n",
       "    <tr>\n",
       "      <th>1</th>\n",
       "      <td>1792</td>\n",
       "      <td>262 351 392 462 1018 1051 1092 1254 1712 2492 ...</td>\n",
       "    </tr>\n",
       "    <tr>\n",
       "      <th>2</th>\n",
       "      <td>3256</td>\n",
       "      <td>4 96 1678 2184 2210 2630 4842 5055 6053 6407 6...</td>\n",
       "    </tr>\n",
       "    <tr>\n",
       "      <th>3</th>\n",
       "      <td>3855</td>\n",
       "      <td>4 1875 2184 2630 3211 4109 4590 4686 6053 6407...</td>\n",
       "    </tr>\n",
       "    <tr>\n",
       "      <th>4</th>\n",
       "      <td>4889</td>\n",
       "      <td>53 254 651 843 958 963 1539 1910 1964 2025 282...</td>\n",
       "    </tr>\n",
       "    <tr>\n",
       "      <th>...</th>\n",
       "      <td>...</td>\n",
       "      <td>...</td>\n",
       "    </tr>\n",
       "    <tr>\n",
       "      <th>14779</th>\n",
       "      <td>5010108</td>\n",
       "      <td>305 441 543 623 735 875 896 1063 1180 1214 142...</td>\n",
       "    </tr>\n",
       "    <tr>\n",
       "      <th>14780</th>\n",
       "      <td>5010109</td>\n",
       "      <td>305 623 875 1014 1063 1924 2004 2257 2471 2608...</td>\n",
       "    </tr>\n",
       "    <tr>\n",
       "      <th>14781</th>\n",
       "      <td>5010110</td>\n",
       "      <td>305 623 1014 1063 1214 1924 2004 2257 2471 260...</td>\n",
       "    </tr>\n",
       "    <tr>\n",
       "      <th>14782</th>\n",
       "      <td>5010111</td>\n",
       "      <td>305 623 846 1014 1063 1794 1924 2004 2257 2471...</td>\n",
       "    </tr>\n",
       "    <tr>\n",
       "      <th>14783</th>\n",
       "      <td>5010112</td>\n",
       "      <td>305 623 875 1014 1063 1924 2004 2110 2257 2471...</td>\n",
       "    </tr>\n",
       "  </tbody>\n",
       "</table>\n",
       "<p>14784 rows × 2 columns</p>\n",
       "</div>"
      ],
      "text/plain": [
       "       surveyId                                        predictions\n",
       "0           642  53 254 300 791 843 958 963 976 1264 1707 1888 ...\n",
       "1          1792  262 351 392 462 1018 1051 1092 1254 1712 2492 ...\n",
       "2          3256  4 96 1678 2184 2210 2630 4842 5055 6053 6407 6...\n",
       "3          3855  4 1875 2184 2630 3211 4109 4590 4686 6053 6407...\n",
       "4          4889  53 254 651 843 958 963 1539 1910 1964 2025 282...\n",
       "...         ...                                                ...\n",
       "14779   5010108  305 441 543 623 735 875 896 1063 1180 1214 142...\n",
       "14780   5010109  305 623 875 1014 1063 1924 2004 2257 2471 2608...\n",
       "14781   5010110  305 623 1014 1063 1214 1924 2004 2257 2471 260...\n",
       "14782   5010111  305 623 846 1014 1063 1794 1924 2004 2257 2471...\n",
       "14783   5010112  305 623 875 1014 1063 1924 2004 2110 2257 2471...\n",
       "\n",
       "[14784 rows x 2 columns]"
      ]
     },
     "execution_count": 11,
     "metadata": {},
     "output_type": "execute_result"
    }
   ],
   "source": [
    "res"
   ]
  },
  {
   "cell_type": "code",
   "execution_count": 1,
   "id": "56479e40-04ee-4546-b1a7-3e6737fea80a",
   "metadata": {},
   "outputs": [
    {
     "data": {
      "text/plain": [
       "3.6591944444444446"
      ]
     },
     "execution_count": 1,
     "metadata": {},
     "output_type": "execute_result"
    }
   ],
   "source": [
    "13173.1 / 3600"
   ]
  },
  {
   "cell_type": "code",
   "execution_count": null,
   "id": "947bdb95-8ba8-4d6c-a94d-2d9ecfaa528f",
   "metadata": {},
   "outputs": [],
   "source": []
  }
 ],
 "metadata": {
  "kernelspec": {
   "display_name": "Python 3 (ipykernel)",
   "language": "python",
   "name": "python3"
  },
  "language_info": {
   "codemirror_mode": {
    "name": "ipython",
    "version": 3
   },
   "file_extension": ".py",
   "mimetype": "text/x-python",
   "name": "python",
   "nbconvert_exporter": "python",
   "pygments_lexer": "ipython3",
   "version": "3.12.3"
  }
 },
 "nbformat": 4,
 "nbformat_minor": 5
}
