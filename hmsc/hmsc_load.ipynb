{
 "cells": [
  {
   "cell_type": "code",
   "execution_count": null,
   "id": "f72385c7-ca46-45fa-bd85-7c6c08c64862",
   "metadata": {},
   "outputs": [],
   "source": [
    "import warnings\n",
    "warnings.filterwarnings(\"ignore\")\n",
    "import os\n",
    "import numpy as np\n",
    "from tqdm.notebook import tqdm\n",
    "import pandas as pd\n",
    "import rasterio\n",
    "import random\n",
    "from datetime import datetime\n",
    "import matplotlib.pyplot as plt\n",
    "from sklearn.metrics import precision_recall_fscore_support\n",
    "\n",
    "import torch\n",
    "from torch.utils.data import Dataset, DataLoader\n",
    "sys.path.append('../prithvi/')\n",
    "from utils import set_seed, f1_score"
   ]
  },
  {
   "cell_type": "code",
   "execution_count": null,
   "id": "84c72c32-ea08-49d1-850f-7fd669696b9b",
   "metadata": {},
   "outputs": [],
   "source": [
    "path_data = \"/home/gt/DATA/geolifeclef-2025\"\n",
    "nc = 409\n",
    "ns = 2519\n",
    "nu = 100\n",
    "nf = 20\n",
    "n_samples = 50\n",
    "thin = 4000\n",
    "if nu == 0: nf = 0\n",
    "model_type_string = f\"nc{nc:04d}_ns{ns:04d}_np{nu:04d}_nf{nf:02d}\"\n",
    "pred_filename = f\"pred_{model_type_string}_sam{n_samples:04d}_thin{thin:04d}.csv\"\n",
    "test_pred = pd.read_csv(os.path.join(path_data, \"hmsc\", \"pred\", pred_filename))"
   ]
  },
  {
   "cell_type": "code",
   "execution_count": null,
   "id": "28d9fee4-42da-4c22-ad06-e73b724ac449",
   "metadata": {},
   "outputs": [],
   "source": [
    "pa_presence_threshold = 1\n",
    "train_path_sentinel = os.path.join(path_data, \"SatelitePatches/PA-train\")\n",
    "train_path_landsat = os.path.join(path_data, \"SateliteTimeSeries-Landsat/cubes/PA-train\")\n",
    "train_path_bioclim = os.path.join(path_data, \"BioclimTimeSeries/cubes/PA-train\")\n",
    "train_metadata = pd.read_csv(os.path.join(path_data, \"GLC25_PA_metadata_train.csv\"))\n",
    "train_metadata = train_metadata.dropna(subset=\"speciesId\").reset_index(drop=True)\n",
    "train_metadata['speciesId'] = train_metadata['speciesId'].astype(int)\n",
    "train_metadata[\"speciesIdOrig\"] = train_metadata['speciesId']\n",
    "tmp = train_metadata[\"speciesId\"].value_counts() >= pa_presence_threshold\n",
    "train_metadata.loc[~train_metadata[\"speciesId\"].isin(tmp[tmp].index), \"speciesId\"] = -1\n",
    "sp_categorical = train_metadata[\"speciesId\"].astype(\"category\").values\n",
    "num_classes = len(sp_categorical.categories)\n",
    "train_metadata['speciesId'] = sp_categorical.codes\n",
    "test_metadata = pd.read_csv(os.path.join(path_data, \"GLC25_PA_metadata_test.csv\")).set_index(\"surveyId\", drop=False).sort_index()"
   ]
  },
  {
   "cell_type": "code",
   "execution_count": null,
   "id": "466c4737-12bc-4841-9ce9-9ce89d4ac11d",
   "metadata": {},
   "outputs": [],
   "source": [
    "batch_size = 64\n",
    "set_seed(42)\n",
    "\n",
    "class PredDataset(Dataset):\n",
    "    def __init__(self, pred):\n",
    "        self.pred = pred\n",
    "\n",
    "    def __len__(self):\n",
    "        return self.pred.shape[0]\n",
    "\n",
    "    def __getitem__(self, idx):\n",
    "        return self.pred.iloc[idx].values\n",
    "\n",
    "test_loader = DataLoader(PredDataset(test_pred), batch_size=batch_size, shuffle=False, num_workers=1)"
   ]
  },
  {
   "cell_type": "code",
   "execution_count": null,
   "id": "834d7da9-44a9-46dd-aae3-43b8f106febd",
   "metadata": {},
   "outputs": [],
   "source": [
    "device = torch.device(\"cpu\")\n",
    "if torch.cuda.is_available():\n",
    "    device = torch.device(\"cuda\")\n",
    "    print(\"DEVICE = CUDA\")"
   ]
  },
  {
   "cell_type": "code",
   "execution_count": null,
   "id": "af73e64a-bcc4-4c9d-9631-4ed9edb75902",
   "metadata": {},
   "outputs": [],
   "source": [
    "with torch.no_grad():\n",
    "    top_indices = []\n",
    "    for outputs in tqdm(test_loader, total=len(test_loader),  desc=\"prediction\"):\n",
    "        outputs = torch.logit(outputs.to(device))\n",
    "        top_batch_list_orig = f1_score(outputs, None, device=device)\n",
    "        top_batch_list_proc = [np.sort(sp_categorical.categories[pred.cpu().numpy()]) for pred in top_batch_list_orig]\n",
    "        top_indices += top_batch_list_proc"
   ]
  },
  {
   "cell_type": "code",
   "execution_count": null,
   "id": "45b2e696-9728-45c7-8dbe-d97fc8505f42",
   "metadata": {},
   "outputs": [],
   "source": [
    "outputs"
   ]
  },
  {
   "cell_type": "code",
   "execution_count": null,
   "id": "f2269151-f20c-48ed-9d23-4c15983e5931",
   "metadata": {},
   "outputs": [],
   "source": [
    "data_concatenated = [' '.join(map(str, row)) for row in top_indices]\n",
    "timestamp = datetime.now().strftime('%Y%m%d_%H%M%S')\n",
    "res = pd.DataFrame({'surveyId': test_metadata.surveyId.values, 'predictions': data_concatenated})"
   ]
  },
  {
   "cell_type": "code",
   "execution_count": null,
   "id": "42976431-0925-4aba-96c1-91ce79591994",
   "metadata": {},
   "outputs": [],
   "source": [
    "os.makedirs(os.path.join(path_data, \"hmsc\", \"result\"), exist_ok=True)\n",
    "timestamp = datetime.now().strftime('%m%d_%H%M%S')\n",
    "res_filename = f\"{timestamp}_res_{model_type_string}_sam{n_samples:04d}_thin{thin:04d}.csv\"\n",
    "res.to_csv(os.path.join(path_data, \"hmsc\", \"result\", res_filename), index=False)"
   ]
  },
  {
   "cell_type": "code",
   "execution_count": null,
   "id": "947bdb95-8ba8-4d6c-a94d-2d9ecfaa528f",
   "metadata": {},
   "outputs": [],
   "source": [
    "print(res.predictions.apply(len).min(), res.predictions.apply(len).max())"
   ]
  },
  {
   "cell_type": "code",
   "execution_count": null,
   "id": "2b76b4c2-10e0-4038-af10-a7fd2a7901a6",
   "metadata": {},
   "outputs": [],
   "source": []
  }
 ],
 "metadata": {
  "kernelspec": {
   "display_name": "Python 3 (ipykernel)",
   "language": "python",
   "name": "python3"
  },
  "language_info": {
   "codemirror_mode": {
    "name": "ipython",
    "version": 3
   },
   "file_extension": ".py",
   "mimetype": "text/x-python",
   "name": "python",
   "nbconvert_exporter": "python",
   "pygments_lexer": "ipython3",
   "version": "3.12.3"
  }
 },
 "nbformat": 4,
 "nbformat_minor": 5
}
