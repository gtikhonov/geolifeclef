{
 "cells": [
  {
   "cell_type": "markdown",
   "id": "e49f73eb",
   "metadata": {
    "papermill": {
     "duration": 0.006251,
     "end_time": "2024-05-05T21:00:58.823056",
     "exception": false,
     "start_time": "2024-05-05T21:00:58.816805",
     "status": "completed"
    },
    "tags": []
   },
   "source": [
    "## Simple baseline with Landsat Cubes — ResNet18 + Binary Cross Entropy [0.26424]\n",
    "\n",
    "To demonstrate the potential of other data such as Landsat cubes, we provide a straightforward baseline that is baseline on a modified ResNet18 and Binary Cross Entropy but still ranks highly on the leaderboard. The model itself should learn the relationship between the location [R, G, B, NIR, SWIR1, and SWIR2] value at a given location and its species composition.\n",
    "\n",
    "Considering the significant extent for enhancing performance of this baseline, we encourage you to experiment with various techniques, architectures, losses, etc.\n",
    "\n",
    "#### **Have Fun!**"
   ]
  },
  {
   "cell_type": "code",
   "execution_count": 1,
   "id": "88d8d70b",
   "metadata": {
    "ExecuteTime": {
     "end_time": "2024-04-30T21:25:07.29831Z",
     "start_time": "2024-04-30T21:25:05.354584Z"
    },
    "papermill": {
     "duration": 7.910804,
     "end_time": "2024-05-05T21:01:06.739690",
     "exception": false,
     "start_time": "2024-05-05T21:00:58.828886",
     "status": "completed"
    },
    "tags": []
   },
   "outputs": [],
   "source": [
    "import os\n",
    "import torch\n",
    "import tqdm\n",
    "import numpy as np\n",
    "import pandas as pd\n",
    "import torchvision.models as models\n",
    "import torchvision.transforms as transforms\n",
    "import torch.nn as nn\n",
    "from torch.utils.data import Dataset, DataLoader\n",
    "from torch.optim.lr_scheduler import CosineAnnealingLR\n",
    "from sklearn.metrics import precision_recall_fscore_support"
   ]
  },
  {
   "cell_type": "markdown",
   "id": "ad54ede5",
   "metadata": {
    "execution": {
     "iopub.execute_input": "2024-05-01T13:30:07.054038Z",
     "iopub.status.busy": "2024-05-01T13:30:07.053659Z",
     "iopub.status.idle": "2024-05-01T13:30:07.058148Z",
     "shell.execute_reply": "2024-05-01T13:30:07.057269Z",
     "shell.execute_reply.started": "2024-05-01T13:30:07.054008Z"
    },
    "papermill": {
     "duration": 0.005438,
     "end_time": "2024-05-05T21:01:06.751219",
     "exception": false,
     "start_time": "2024-05-05T21:01:06.745781",
     "status": "completed"
    },
    "tags": []
   },
   "source": [
    "## Data description\n",
    "\n",
    "Satellite time series data includes over 20 years of Landsat satellite imagery extracted from [Ecodatacube](https://stac.ecodatacube.eu/).\n",
    "The data was acquired through the Landsat satellite program and pre-processed by Ecodatacube to produce raster files scaled to the entire European continent and projected into a unique CRS.\n",
    "\n",
    "Since the original rasters require a high amount of disk space, we extracted the data points from each spectral band corresponding to all PA and PO locations (i.e., GPS coordinates) and aggregated them in (i) CSV files and (ii) data cubes as tensor objects. Each data point corresponds to the mean value of Landsat's observations at the given location for three months before the given time; e.g., the value of a time series element under column 2012_4 will represent the mean value for that element from October 2012 to December 2012.\n",
    "\n",
    "In this notebook, we will work with just the cubes. The cubes are structured as follows.\n",
    "**Shape**: `(n_bands, n_quarters, n_years)` where:\n",
    "- `n_bands` = 6 comprising [`red`, `green`, `blue`, `nir`, `swir1`, `swir2`]\n",
    "- `n_quarters` = 4 \n",
    "    - *Quarter 1*: December 2 of previous year until March 20 of current year (winter season proxy),\n",
    "    - *Quarter 2*: March 21 until June 24 of current year (spring season proxy),\n",
    "    - *Quarter 3*: June 25 until September 12 of current year (summer season proxy),\n",
    "    - *Quarter 4*: September 13 until December 1 of current year (fall season proxy).\n",
    "- `n_years` = 21 (ranging from 2000 to 2020)\n",
    "\n",
    "The datacubes can simply be loaded as tensors using PyTorch with the following command :\n",
    "\n",
    "```python\n",
    "import torch\n",
    "torch.load('path_to_file.pt')\n",
    "```\n",
    "\n",
    "**References:**\n",
    "- *Traceability (lineage): This dataset is a seasonally aggregated and gapfilled version of the Landsat GLAD analysis-ready data product presented by Potapov et al., 2020 ( https://doi.org/10.3390/rs12030426 ).*\n",
    "- *Scientific methodology: The Landsat GLAD ARD dataset was aggregated and harmonized using the eumap python package (available at https://eumap.readthedocs.io/en/latest/ ). The full process of gapfilling and harmonization is described in detail in Witjes et al., 2022 (in review, preprint available at https://doi.org/10.21203/rs.3.rs-561383/v3 ).*\n",
    "- *Ecodatacube.eu: Analysis-ready open environmental data cube for Europe (https://doi.org/10.21203/rs.3.rs-2277090/v3).*"
   ]
  },
  {
   "cell_type": "markdown",
   "id": "f758ba3a",
   "metadata": {
    "papermill": {
     "duration": 0.005422,
     "end_time": "2024-05-05T21:01:06.762205",
     "exception": false,
     "start_time": "2024-05-05T21:01:06.756783",
     "status": "completed"
    },
    "tags": []
   },
   "source": [
    "## Prepare custom dataset loader\n",
    "\n",
    "We have to sloightly update the Dataset to provide the relevant data in the appropriate format."
   ]
  },
  {
   "cell_type": "code",
   "execution_count": 2,
   "id": "6ba67bb2",
   "metadata": {
    "ExecuteTime": {
     "end_time": "2024-04-30T21:25:32.627928Z",
     "start_time": "2024-04-30T21:25:32.612131Z"
    },
    "collapsed": false,
    "jupyter": {
     "outputs_hidden": false
    },
    "papermill": {
     "duration": 0.022488,
     "end_time": "2024-05-05T21:01:06.790318",
     "exception": false,
     "start_time": "2024-05-05T21:01:06.767830",
     "status": "completed"
    },
    "tags": []
   },
   "outputs": [],
   "source": [
    "class TrainDataset(Dataset):\n",
    "    def __init__(self, data_dir, metadata, subset, transform=None):\n",
    "        self.subset = subset\n",
    "        self.transform = transform\n",
    "        self.data_dir = data_dir\n",
    "        self.metadata = metadata\n",
    "        self.metadata = self.metadata.dropna(subset=\"speciesId\").reset_index(drop=True)\n",
    "        self.metadata['speciesId'] = self.metadata['speciesId'].astype(int)\n",
    "        self.label_dict = self.metadata.groupby('surveyId')['speciesId'].apply(list).to_dict()\n",
    "        self.metadata = self.metadata.drop_duplicates(subset=\"surveyId\").reset_index(drop=True)\n",
    "\n",
    "    def __len__(self):\n",
    "        return len(self.metadata)\n",
    "\n",
    "    def __getitem__(self, idx):\n",
    "        survey_id = self.metadata.surveyId[idx]\n",
    "        lonlat = torch.tensor(self.metadata.loc[idx, [\"lon\",\"lat\"]].values.astype(np.float32))\n",
    "        meta = self.metadata.loc[idx, [\"lon\",\"lat\"]].values.astype(np.float32)\n",
    "        sample = torch.nan_to_num(torch.load(os.path.join(self.data_dir, f\"GLC25-PA-{self.subset}-landsat-time-series_{survey_id}_cube.pt\"), weights_only=True))\n",
    "\n",
    "        species_ids = self.label_dict.get(survey_id, [])  # Get list of species IDs for the survey ID\n",
    "        label = torch.zeros(num_classes).scatter(0, torch.tensor(species_ids), torch.ones(len(species_ids)))\n",
    "\n",
    "        # Ensure the sample is in the correct format for the transform\n",
    "        if isinstance(sample, torch.Tensor):\n",
    "            sample = sample.permute(1, 2, 0)  # Change tensor shape from (C, H, W) to (H, W, C)\n",
    "            sample = sample.numpy()  # Convert tensor to numpy array\n",
    "            #print(sample.shape)\n",
    "\n",
    "        if self.transform:\n",
    "            sample = self.transform(sample)\n",
    "\n",
    "        return sample, lonlat, label, survey_id\n",
    "    \n",
    "class TestDataset(TrainDataset):\n",
    "    def __init__(self, data_dir, metadata, subset, transform=None):\n",
    "        self.subset = subset\n",
    "        self.transform = transform\n",
    "        self.data_dir = data_dir\n",
    "        self.metadata = metadata\n",
    "        \n",
    "    def __getitem__(self, idx):\n",
    "        survey_id = self.metadata.surveyId[idx]\n",
    "        lonlat = torch.tensor(self.metadata.loc[idx, [\"lon\",\"lat\"]].values.astype(np.float32))\n",
    "        sample = torch.nan_to_num(torch.load(os.path.join(self.data_dir, f\"GLC25-PA-{self.subset}-landsat_time_series_{survey_id}_cube.pt\"), weights_only=True))\n",
    "        if isinstance(sample, torch.Tensor):\n",
    "            sample = sample.permute(1, 2, 0)  # Change tensor shape from (C, H, W) to (H, W, C)\n",
    "            sample = sample.numpy()\n",
    "        if self.transform:\n",
    "            sample = self.transform(sample)\n",
    "        return sample, lonlat, survey_id"
   ]
  },
  {
   "cell_type": "markdown",
   "id": "10cc07d0",
   "metadata": {
    "papermill": {
     "duration": 0.00538,
     "end_time": "2024-05-05T21:01:06.801283",
     "exception": false,
     "start_time": "2024-05-05T21:01:06.795903",
     "status": "completed"
    },
    "tags": []
   },
   "source": [
    "### Load metadata and prepare data loaders"
   ]
  },
  {
   "cell_type": "code",
   "execution_count": 3,
   "id": "f2a1f08d",
   "metadata": {
    "ExecuteTime": {
     "end_time": "2024-04-30T21:25:34.532017Z",
     "start_time": "2024-04-30T21:25:32.615562Z"
    },
    "collapsed": false,
    "jupyter": {
     "outputs_hidden": false
    },
    "papermill": {
     "duration": 5.726171,
     "end_time": "2024-05-05T21:01:12.535279",
     "exception": false,
     "start_time": "2024-05-05T21:01:06.809108",
     "status": "completed"
    },
    "tags": []
   },
   "outputs": [],
   "source": [
    "# Dataset and DataLoader\n",
    "batch_size = 256\n",
    "transform = transforms.Compose([\n",
    "    transforms.ToTensor()\n",
    "])\n",
    "\n",
    "# Load Training metada\n",
    "path_data = \"/home/gt/DATA/geolifeclef-2025\"\n",
    "train_data_path = os.path.join(path_data, \"SateliteTimeSeries-Landsat/cubes/PA-train/\")\n",
    "train_metadata_path = os.path.join(path_data, \"GLC25_PA_metadata_train.csv\")\n",
    "train_metadata = pd.read_csv(train_metadata_path)\n",
    "train_dataset = TrainDataset(train_data_path, train_metadata, subset=\"train\", transform=transform)\n",
    "train_loader = DataLoader(train_dataset, batch_size=batch_size, shuffle=True, num_workers=4)\n",
    "\n",
    "# Load Test metadata\n",
    "test_data_path = os.path.join(path_data, \"SateliteTimeSeries-Landsat/cubes/PA-test/\")\n",
    "test_metadata_path = os.path.join(path_data, \"GLC25_PA_metadata_test.csv\")\n",
    "test_metadata = pd.read_csv(test_metadata_path)\n",
    "test_dataset = TestDataset(test_data_path, test_metadata, subset=\"test\", transform=transform)\n",
    "test_loader = DataLoader(test_dataset, batch_size=batch_size, shuffle=False, num_workers=4)"
   ]
  },
  {
   "cell_type": "code",
   "execution_count": 4,
   "id": "57c91318-842d-4c75-9ea3-a4834ee98449",
   "metadata": {},
   "outputs": [],
   "source": [
    "# num_classes = 11255 # Number of all unique classes within the PO and PA data.\n",
    "# print(next(iter(train_loader)))"
   ]
  },
  {
   "cell_type": "markdown",
   "id": "17dcec3b",
   "metadata": {
    "papermill": {
     "duration": 0.005747,
     "end_time": "2024-05-05T21:01:12.547063",
     "exception": false,
     "start_time": "2024-05-05T21:01:12.541316",
     "status": "completed"
    },
    "tags": []
   },
   "source": [
    "## Define and initialize the ModifiedResNet18 model\n",
    "\n",
    "To utilize the landsat cubes, which have a shape of [6,4,21] (BANDs, QUARTERs, and YEARs), some minor adjustments must be made to the vanilla ResNet-18. It's important to note that this is just one method for ensuring compatibility with the unusual tensor shape, and experimentation is encouraged."
   ]
  },
  {
   "cell_type": "code",
   "execution_count": 5,
   "id": "53d74624",
   "metadata": {
    "ExecuteTime": {
     "end_time": "2024-04-30T21:25:31.014067Z",
     "start_time": "2024-04-30T21:25:31.01006Z"
    },
    "collapsed": false,
    "jupyter": {
     "outputs_hidden": false
    },
    "papermill": {
     "duration": 0.015915,
     "end_time": "2024-05-05T21:01:12.568601",
     "exception": false,
     "start_time": "2024-05-05T21:01:12.552686",
     "status": "completed"
    },
    "tags": []
   },
   "outputs": [],
   "source": [
    "class ModifiedResNet18(nn.Module):\n",
    "    def __init__(self, num_classes, lonlat):\n",
    "        super(ModifiedResNet18, self).__init__()\n",
    "\n",
    "        self.norm_input = nn.LayerNorm([6,4,21])\n",
    "        self.resnet18 = models.resnet18(weights=None)\n",
    "        # We have to modify the first convolutional layer to accept 4 channels instead of 3\n",
    "        self.resnet18.conv1 = nn.Conv2d(6, 64, kernel_size=3, stride=1, padding=1, bias=False)\n",
    "        self.resnet18.maxpool = nn.Identity()\n",
    "        self.ln = nn.LayerNorm(1000)\n",
    "        self.lonlat = lonlat\n",
    "        if self.lonlat==True:\n",
    "            self.fc = nn.Linear(1002, num_classes)\n",
    "        else:\n",
    "            self.fc = nn.Linear(1000, num_classes)\n",
    "\n",
    "    def forward(self, x, lonlat=None):\n",
    "        x = self.norm_input(x)\n",
    "        x = self.resnet18(x)\n",
    "        x = self.ln(x)\n",
    "        if self.lonlat != False:\n",
    "            x = torch.concat([x, lonlat], -1)\n",
    "        x = self.fc(x)\n",
    "        return x"
   ]
  },
  {
   "cell_type": "code",
   "execution_count": 6,
   "id": "7e98ba53",
   "metadata": {
    "papermill": {
     "duration": 0.058735,
     "end_time": "2024-05-05T21:01:12.632872",
     "exception": false,
     "start_time": "2024-05-05T21:01:12.574137",
     "status": "completed"
    },
    "tags": []
   },
   "outputs": [],
   "source": [
    "def set_seed(seed):\n",
    "    # Set seed for Python's built-in random number generator\n",
    "    torch.manual_seed(seed)\n",
    "    # Set seed for numpy\n",
    "    np.random.seed(seed)\n",
    "    # Set seed for CUDA if available\n",
    "    if torch.cuda.is_available():\n",
    "        torch.cuda.manual_seed_all(seed)\n",
    "        # Set cuDNN's random number generator seed for deterministic behavior\n",
    "        torch.backends.cudnn.deterministic = True\n",
    "        torch.backends.cudnn.benchmark = False\n",
    "\n",
    "set_seed(69)"
   ]
  },
  {
   "cell_type": "code",
   "execution_count": 7,
   "id": "828330c8",
   "metadata": {
    "ExecuteTime": {
     "end_time": "2024-04-30T21:25:31.611823Z",
     "start_time": "2024-04-30T21:25:31.607373Z"
    },
    "collapsed": false,
    "jupyter": {
     "outputs_hidden": false
    },
    "papermill": {
     "duration": 0.676292,
     "end_time": "2024-05-05T21:01:13.314798",
     "exception": false,
     "start_time": "2024-05-05T21:01:12.638506",
     "status": "completed"
    },
    "tags": []
   },
   "outputs": [
    {
     "name": "stdout",
     "output_type": "stream",
     "text": [
      "DEVICE = CUDA\n"
     ]
    }
   ],
   "source": [
    "# Check if cuda is available\n",
    "device = torch.device(\"cpu\")\n",
    "if torch.cuda.is_available():\n",
    "    device = torch.device(\"cuda\")\n",
    "    print(\"DEVICE = CUDA\")\n",
    "num_classes = 11255 # Number of all unique classes within the PO and PA data.\n",
    "model = ModifiedResNet18(num_classes, False).to(device)"
   ]
  },
  {
   "cell_type": "code",
   "execution_count": 13,
   "id": "85e7c698-50b4-4efd-92e1-263f2ff9ba06",
   "metadata": {},
   "outputs": [
    {
     "name": "stdout",
     "output_type": "stream",
     "text": [
      "----------------------------------------------------------------\n",
      "        Layer (type)               Output Shape         Param #\n",
      "================================================================\n",
      "         LayerNorm-1             [-1, 6, 4, 21]           1,008\n",
      "            Conv2d-2            [-1, 64, 4, 21]           3,456\n",
      "       BatchNorm2d-3            [-1, 64, 4, 21]             128\n",
      "              ReLU-4            [-1, 64, 4, 21]               0\n",
      "          Identity-5            [-1, 64, 4, 21]               0\n",
      "            Conv2d-6            [-1, 64, 4, 21]          36,864\n",
      "       BatchNorm2d-7            [-1, 64, 4, 21]             128\n",
      "              ReLU-8            [-1, 64, 4, 21]               0\n",
      "            Conv2d-9            [-1, 64, 4, 21]          36,864\n",
      "      BatchNorm2d-10            [-1, 64, 4, 21]             128\n",
      "             ReLU-11            [-1, 64, 4, 21]               0\n",
      "       BasicBlock-12            [-1, 64, 4, 21]               0\n",
      "           Conv2d-13            [-1, 64, 4, 21]          36,864\n",
      "      BatchNorm2d-14            [-1, 64, 4, 21]             128\n",
      "             ReLU-15            [-1, 64, 4, 21]               0\n",
      "           Conv2d-16            [-1, 64, 4, 21]          36,864\n",
      "      BatchNorm2d-17            [-1, 64, 4, 21]             128\n",
      "             ReLU-18            [-1, 64, 4, 21]               0\n",
      "       BasicBlock-19            [-1, 64, 4, 21]               0\n",
      "           Conv2d-20           [-1, 128, 2, 11]          73,728\n",
      "      BatchNorm2d-21           [-1, 128, 2, 11]             256\n",
      "             ReLU-22           [-1, 128, 2, 11]               0\n",
      "           Conv2d-23           [-1, 128, 2, 11]         147,456\n",
      "      BatchNorm2d-24           [-1, 128, 2, 11]             256\n",
      "           Conv2d-25           [-1, 128, 2, 11]           8,192\n",
      "      BatchNorm2d-26           [-1, 128, 2, 11]             256\n",
      "             ReLU-27           [-1, 128, 2, 11]               0\n",
      "       BasicBlock-28           [-1, 128, 2, 11]               0\n",
      "           Conv2d-29           [-1, 128, 2, 11]         147,456\n",
      "      BatchNorm2d-30           [-1, 128, 2, 11]             256\n",
      "             ReLU-31           [-1, 128, 2, 11]               0\n",
      "           Conv2d-32           [-1, 128, 2, 11]         147,456\n",
      "      BatchNorm2d-33           [-1, 128, 2, 11]             256\n",
      "             ReLU-34           [-1, 128, 2, 11]               0\n",
      "       BasicBlock-35           [-1, 128, 2, 11]               0\n",
      "           Conv2d-36            [-1, 256, 1, 6]         294,912\n",
      "      BatchNorm2d-37            [-1, 256, 1, 6]             512\n",
      "             ReLU-38            [-1, 256, 1, 6]               0\n",
      "           Conv2d-39            [-1, 256, 1, 6]         589,824\n",
      "      BatchNorm2d-40            [-1, 256, 1, 6]             512\n",
      "           Conv2d-41            [-1, 256, 1, 6]          32,768\n",
      "      BatchNorm2d-42            [-1, 256, 1, 6]             512\n",
      "             ReLU-43            [-1, 256, 1, 6]               0\n",
      "       BasicBlock-44            [-1, 256, 1, 6]               0\n",
      "           Conv2d-45            [-1, 256, 1, 6]         589,824\n",
      "      BatchNorm2d-46            [-1, 256, 1, 6]             512\n",
      "             ReLU-47            [-1, 256, 1, 6]               0\n",
      "           Conv2d-48            [-1, 256, 1, 6]         589,824\n",
      "      BatchNorm2d-49            [-1, 256, 1, 6]             512\n",
      "             ReLU-50            [-1, 256, 1, 6]               0\n",
      "       BasicBlock-51            [-1, 256, 1, 6]               0\n",
      "           Conv2d-52            [-1, 512, 1, 3]       1,179,648\n",
      "      BatchNorm2d-53            [-1, 512, 1, 3]           1,024\n",
      "             ReLU-54            [-1, 512, 1, 3]               0\n",
      "           Conv2d-55            [-1, 512, 1, 3]       2,359,296\n",
      "      BatchNorm2d-56            [-1, 512, 1, 3]           1,024\n",
      "           Conv2d-57            [-1, 512, 1, 3]         131,072\n",
      "      BatchNorm2d-58            [-1, 512, 1, 3]           1,024\n",
      "             ReLU-59            [-1, 512, 1, 3]               0\n",
      "       BasicBlock-60            [-1, 512, 1, 3]               0\n",
      "           Conv2d-61            [-1, 512, 1, 3]       2,359,296\n",
      "      BatchNorm2d-62            [-1, 512, 1, 3]           1,024\n",
      "             ReLU-63            [-1, 512, 1, 3]               0\n",
      "           Conv2d-64            [-1, 512, 1, 3]       2,359,296\n",
      "      BatchNorm2d-65            [-1, 512, 1, 3]           1,024\n",
      "             ReLU-66            [-1, 512, 1, 3]               0\n",
      "       BasicBlock-67            [-1, 512, 1, 3]               0\n",
      "AdaptiveAvgPool2d-68            [-1, 512, 1, 1]               0\n",
      "           Linear-69                 [-1, 1000]         513,000\n",
      "           ResNet-70                 [-1, 1000]               0\n",
      "        LayerNorm-71                 [-1, 1000]           2,000\n",
      "           Linear-72                [-1, 11255]      11,266,255\n",
      "================================================================\n",
      "Total params: 22,952,823\n",
      "Trainable params: 22,952,823\n",
      "Non-trainable params: 0\n",
      "----------------------------------------------------------------\n",
      "Input size (MB): 0.00\n",
      "Forward/backward pass size (MB): 1.57\n",
      "Params size (MB): 87.56\n",
      "Estimated Total Size (MB): 89.13\n",
      "----------------------------------------------------------------\n"
     ]
    }
   ],
   "source": [
    "from torchsummary import summary\n",
    "summary(model, (6, 4, 21))"
   ]
  },
  {
   "cell_type": "markdown",
   "id": "648576c4",
   "metadata": {
    "papermill": {
     "duration": 0.005509,
     "end_time": "2024-05-05T21:01:13.326480",
     "exception": false,
     "start_time": "2024-05-05T21:01:13.320971",
     "status": "completed"
    },
    "tags": []
   },
   "source": [
    "## Training Loop\n",
    "\n",
    "Nothing special, just a standard Pytorch training loop."
   ]
  },
  {
   "cell_type": "code",
   "execution_count": 9,
   "id": "e35d34a4",
   "metadata": {
    "ExecuteTime": {
     "end_time": "2024-04-30T21:25:32.181927Z",
     "start_time": "2024-04-30T21:25:32.177073Z"
    },
    "collapsed": false,
    "jupyter": {
     "outputs_hidden": false
    },
    "papermill": {
     "duration": 0.015096,
     "end_time": "2024-05-05T21:01:13.347192",
     "exception": false,
     "start_time": "2024-05-05T21:01:13.332096",
     "status": "completed"
    },
    "tags": []
   },
   "outputs": [
    {
     "name": "stderr",
     "output_type": "stream",
     "text": [
      "/home/gt/.virtualenvs/prithvi/lib/python3.12/site-packages/torch/optim/lr_scheduler.py:62: UserWarning: The verbose parameter is deprecated. Please use get_last_lr() to access the learning rate.\n",
      "  warnings.warn(\n"
     ]
    }
   ],
   "source": [
    "# Hyperparameters\n",
    "learning_rate = 0.0002\n",
    "num_epochs = 20\n",
    "positive_weigh_factor = 1.0\n",
    "\n",
    "optimizer = torch.optim.AdamW(model.parameters(), lr=learning_rate)\n",
    "scheduler = CosineAnnealingLR(optimizer, T_max=25, verbose=True)"
   ]
  },
  {
   "cell_type": "code",
   "execution_count": 10,
   "id": "e9d1df4d",
   "metadata": {
    "ExecuteTime": {
     "start_time": "2024-04-30T21:25:34.536634Z"
    },
    "collapsed": false,
    "is_executing": true,
    "jupyter": {
     "outputs_hidden": false
    },
    "papermill": {
     "duration": 1209.843817,
     "end_time": "2024-05-05T21:21:23.196800",
     "exception": false,
     "start_time": "2024-05-05T21:01:13.352983",
     "status": "completed"
    },
    "tags": []
   },
   "outputs": [
    {
     "name": "stdout",
     "output_type": "stream",
     "text": [
      "Training for 20 epochs started.\n"
     ]
    },
    {
     "name": "stderr",
     "output_type": "stream",
     "text": [
      "                                                                                                                                                                         "
     ]
    },
    {
     "name": "stdout",
     "output_type": "stream",
     "text": [
      "Epoch 1/20, Loss: 0.006783004850149155\n"
     ]
    },
    {
     "name": "stderr",
     "output_type": "stream",
     "text": [
      "                                                                                                                                                                         "
     ]
    },
    {
     "name": "stdout",
     "output_type": "stream",
     "text": [
      "Epoch 2/20, Loss: 0.005892917048186064\n"
     ]
    },
    {
     "name": "stderr",
     "output_type": "stream",
     "text": [
      "                                                                                                                                                                         "
     ]
    },
    {
     "name": "stdout",
     "output_type": "stream",
     "text": [
      "Epoch 3/20, Loss: 0.005638463422656059\n"
     ]
    },
    {
     "name": "stderr",
     "output_type": "stream",
     "text": [
      "                                                                                                                                                                         "
     ]
    },
    {
     "name": "stdout",
     "output_type": "stream",
     "text": [
      "Epoch 4/20, Loss: 0.004626089241355658\n"
     ]
    },
    {
     "name": "stderr",
     "output_type": "stream",
     "text": [
      "                                                                                                                                                                         "
     ]
    },
    {
     "name": "stdout",
     "output_type": "stream",
     "text": [
      "Epoch 5/20, Loss: 0.004750856198370457\n"
     ]
    },
    {
     "name": "stderr",
     "output_type": "stream",
     "text": [
      "                                                                                                                                                                         "
     ]
    },
    {
     "name": "stdout",
     "output_type": "stream",
     "text": [
      "Epoch 6/20, Loss: 0.004376672208309174\n"
     ]
    },
    {
     "name": "stderr",
     "output_type": "stream",
     "text": [
      "                                                                                                                                                                         "
     ]
    },
    {
     "name": "stdout",
     "output_type": "stream",
     "text": [
      "Epoch 7/20, Loss: 0.0044020479544997215\n"
     ]
    },
    {
     "name": "stderr",
     "output_type": "stream",
     "text": [
      "                                                                                                                                                                         "
     ]
    },
    {
     "name": "stdout",
     "output_type": "stream",
     "text": [
      "Epoch 8/20, Loss: 0.0039253863506019115\n"
     ]
    },
    {
     "name": "stderr",
     "output_type": "stream",
     "text": [
      "                                                                                                                                                                         "
     ]
    },
    {
     "name": "stdout",
     "output_type": "stream",
     "text": [
      "Epoch 9/20, Loss: 0.0038529299199581146\n"
     ]
    },
    {
     "name": "stderr",
     "output_type": "stream",
     "text": [
      "                                                                                                                                                                         "
     ]
    },
    {
     "name": "stdout",
     "output_type": "stream",
     "text": [
      "Epoch 10/20, Loss: 0.003782301675528288\n"
     ]
    },
    {
     "name": "stderr",
     "output_type": "stream",
     "text": [
      "                                                                                                                                                                         "
     ]
    },
    {
     "name": "stdout",
     "output_type": "stream",
     "text": [
      "Epoch 11/20, Loss: 0.0038399151526391506\n"
     ]
    },
    {
     "name": "stderr",
     "output_type": "stream",
     "text": [
      "                                                                                                                                                                         "
     ]
    },
    {
     "name": "stdout",
     "output_type": "stream",
     "text": [
      "Epoch 12/20, Loss: 0.003735095029696822\n"
     ]
    },
    {
     "name": "stderr",
     "output_type": "stream",
     "text": [
      "                                                                                                                                                                         "
     ]
    },
    {
     "name": "stdout",
     "output_type": "stream",
     "text": [
      "Epoch 13/20, Loss: 0.003572053276002407\n"
     ]
    },
    {
     "name": "stderr",
     "output_type": "stream",
     "text": [
      "                                                                                                                                                                         "
     ]
    },
    {
     "name": "stdout",
     "output_type": "stream",
     "text": [
      "Epoch 14/20, Loss: 0.0036347825080156326\n"
     ]
    },
    {
     "name": "stderr",
     "output_type": "stream",
     "text": [
      "                                                                                                                                                                         "
     ]
    },
    {
     "name": "stdout",
     "output_type": "stream",
     "text": [
      "Epoch 15/20, Loss: 0.003613216569647193\n"
     ]
    },
    {
     "name": "stderr",
     "output_type": "stream",
     "text": [
      "                                                                                                                                                                         "
     ]
    },
    {
     "name": "stdout",
     "output_type": "stream",
     "text": [
      "Epoch 16/20, Loss: 0.0031437657307833433\n"
     ]
    },
    {
     "name": "stderr",
     "output_type": "stream",
     "text": [
      "                                                                                                                                                                         "
     ]
    },
    {
     "name": "stdout",
     "output_type": "stream",
     "text": [
      "Epoch 17/20, Loss: 0.003282710677012801\n"
     ]
    },
    {
     "name": "stderr",
     "output_type": "stream",
     "text": [
      "                                                                                                                                                                         "
     ]
    },
    {
     "name": "stdout",
     "output_type": "stream",
     "text": [
      "Epoch 18/20, Loss: 0.003230009227991104\n"
     ]
    },
    {
     "name": "stderr",
     "output_type": "stream",
     "text": [
      "                                                                                                                                                                         "
     ]
    },
    {
     "name": "stdout",
     "output_type": "stream",
     "text": [
      "Epoch 19/20, Loss: 0.0028856401331722736\n"
     ]
    },
    {
     "name": "stderr",
     "output_type": "stream",
     "text": [
      "                                                                                                                                                                         "
     ]
    },
    {
     "name": "stdout",
     "output_type": "stream",
     "text": [
      "Epoch 20/20, Loss: 0.002801822265610099\n"
     ]
    }
   ],
   "source": [
    "print(f\"Training for {num_epochs} epochs started.\")\n",
    "\n",
    "for epoch in range(num_epochs):\n",
    "    model.train()\n",
    "    for batch_idx, (data, lonlat, targets, _) in tqdm.tqdm(enumerate(train_loader), total=len(train_loader), leave=False):\n",
    "        data = data.to(device)\n",
    "        lonlat = lonlat.to(device)\n",
    "        # print(lonlat.dtype)\n",
    "        targets = targets.to(device)\n",
    "        optimizer.zero_grad()\n",
    "        outputs = model(data)\n",
    "        pos_weight = targets*positive_weigh_factor  # All positive weights are equal to 10\n",
    "        criterion = torch.nn.BCEWithLogitsLoss(pos_weight=pos_weight)\n",
    "        loss = criterion(outputs, targets)\n",
    "        loss.backward()\n",
    "        optimizer.step()\n",
    "        # if batch_idx % 175 == 0:\n",
    "        #     print(f\"Epoch {epoch+1}/{num_epochs}, Batch {batch_idx}/{len(train_loader)}, Loss: {loss.item()}\")\n",
    "    \n",
    "    print(f\"Epoch {epoch+1}/{num_epochs}, Loss: {loss.item()}\")\n",
    "    scheduler.step()\n",
    "    #print(\"Scheduler:\",scheduler.state_dict())\n",
    "\n",
    "# Save the trained model\n",
    "model.eval()\n",
    "torch.save(model.state_dict(), \"resnet18-with-landsat-cubes.pth\")"
   ]
  },
  {
   "cell_type": "markdown",
   "id": "ce07f945",
   "metadata": {
    "papermill": {
     "duration": 0.014707,
     "end_time": "2024-05-05T21:21:23.226855",
     "exception": false,
     "start_time": "2024-05-05T21:21:23.212148",
     "status": "completed"
    },
    "tags": []
   },
   "source": [
    "## Test Loop\n",
    "\n",
    "Again, nothing special, just a standard inference."
   ]
  },
  {
   "cell_type": "code",
   "execution_count": 11,
   "id": "5fd35b61",
   "metadata": {
    "collapsed": false,
    "jupyter": {
     "outputs_hidden": false
    },
    "papermill": {
     "duration": 9.799329,
     "end_time": "2024-05-05T21:21:33.041149",
     "exception": false,
     "start_time": "2024-05-05T21:21:23.241820",
     "status": "completed"
    },
    "tags": []
   },
   "outputs": [
    {
     "name": "stderr",
     "output_type": "stream",
     "text": [
      "100%|████████████████████████████████████████████████████████████████████████████████████████████████████████████████████████████████████| 58/58 [00:09<00:00,  5.91it/s]\n"
     ]
    }
   ],
   "source": [
    "with torch.no_grad():\n",
    "    all_predictions = []\n",
    "    surveys = []\n",
    "    top_k_indices = None\n",
    "    for data, lonlat, surveyID in tqdm.tqdm(test_loader, total=len(test_loader)):\n",
    "        data = data.to(device)\n",
    "        lonlat = lonlat.to(device)\n",
    "        outputs = model(data, lonlat)\n",
    "        predictions = torch.sigmoid(outputs).cpu().numpy()\n",
    "\n",
    "        # Sellect top-25 values as predictions\n",
    "        top_25 = np.sort(np.argsort(-predictions, axis=1)[:, :25])\n",
    "        if top_k_indices is None:\n",
    "            top_k_indices = top_25\n",
    "        else:\n",
    "            top_k_indices = np.concatenate((top_k_indices, top_25), axis=0)\n",
    "\n",
    "        surveys.extend(surveyID.cpu().numpy())"
   ]
  },
  {
   "cell_type": "markdown",
   "id": "5c9d476e",
   "metadata": {
    "papermill": {
     "duration": 0.01651,
     "end_time": "2024-05-05T21:21:33.076908",
     "exception": false,
     "start_time": "2024-05-05T21:21:33.060398",
     "status": "completed"
    },
    "tags": []
   },
   "source": [
    "## Save prediction file! 🎉🥳🙌🤗"
   ]
  },
  {
   "cell_type": "code",
   "execution_count": 12,
   "id": "2e027600",
   "metadata": {
    "papermill": {
     "duration": 0.124413,
     "end_time": "2024-05-05T21:21:33.218031",
     "exception": false,
     "start_time": "2024-05-05T21:21:33.093618",
     "status": "completed"
    },
    "tags": []
   },
   "outputs": [],
   "source": [
    "data_concatenated = [' '.join(map(str, row)) for row in top_k_indices]\n",
    "\n",
    "pd.DataFrame(\n",
    "    {'surveyId': surveys,\n",
    "     'predictions': data_concatenated,\n",
    "    }).to_csv(\"submission.csv\", index = False)"
   ]
  },
  {
   "cell_type": "code",
   "execution_count": null,
   "id": "0b190f99-96cf-4685-94a1-2a866a4af49a",
   "metadata": {},
   "outputs": [],
   "source": []
  }
 ],
 "metadata": {
  "kaggle": {
   "accelerator": "nvidiaTeslaT4",
   "dataSources": [
    {
     "databundleVersionId": 11364227,
     "sourceId": 91196,
     "sourceType": "competition"
    }
   ],
   "dockerImageVersionId": 30919,
   "isGpuEnabled": true,
   "isInternetEnabled": true,
   "language": "python",
   "sourceType": "notebook"
  },
  "kernelspec": {
   "display_name": "Python 3 (ipykernel)",
   "language": "python",
   "name": "python3"
  },
  "language_info": {
   "codemirror_mode": {
    "name": "ipython",
    "version": 3
   },
   "file_extension": ".py",
   "mimetype": "text/x-python",
   "name": "python",
   "nbconvert_exporter": "python",
   "pygments_lexer": "ipython3",
   "version": "3.12.3"
  },
  "papermill": {
   "default_parameters": {},
   "duration": 1239.673699,
   "end_time": "2024-05-05T21:21:35.811865",
   "environment_variables": {},
   "exception": null,
   "input_path": "__notebook__.ipynb",
   "output_path": "__notebook__.ipynb",
   "parameters": {},
   "start_time": "2024-05-05T21:00:56.138166",
   "version": "2.5.0"
  }
 },
 "nbformat": 4,
 "nbformat_minor": 5
}
